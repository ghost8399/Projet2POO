{
 "cells": [
  {
   "cell_type": "code",
   "execution_count": 1,
   "id": "b55a48d8",
   "metadata": {},
   "outputs": [],
   "source": [
    "import pandas as pd\n",
    "import networkx as nx \n",
    "import matplotlib.pyplot as plt\n",
    "import csv\n",
    "import folium\n",
    "\n",
    "%matplotlib inline"
   ]
  },
  {
   "cell_type": "code",
   "execution_count": 41,
   "id": "9e55042f",
   "metadata": {},
   "outputs": [
    {
     "data": {
      "text/html": [
       "<div>\n",
       "<style scoped>\n",
       "    .dataframe tbody tr th:only-of-type {\n",
       "        vertical-align: middle;\n",
       "    }\n",
       "\n",
       "    .dataframe tbody tr th {\n",
       "        vertical-align: top;\n",
       "    }\n",
       "\n",
       "    .dataframe thead th {\n",
       "        text-align: right;\n",
       "    }\n",
       "</style>\n",
       "<table border=\"1\" class=\"dataframe\">\n",
       "  <thead>\n",
       "    <tr style=\"text-align: right;\">\n",
       "      <th></th>\n",
       "      <th>id</th>\n",
       "      <th>latitude</th>\n",
       "      <th>longitude</th>\n",
       "      <th>population</th>\n",
       "    </tr>\n",
       "  </thead>\n",
       "  <tbody>\n",
       "    <tr>\n",
       "      <th>0</th>\n",
       "      <td>Amsterdam</td>\n",
       "      <td>52.379189</td>\n",
       "      <td>4.899431</td>\n",
       "      <td>821752</td>\n",
       "    </tr>\n",
       "    <tr>\n",
       "      <th>1</th>\n",
       "      <td>Utrecht</td>\n",
       "      <td>52.092876</td>\n",
       "      <td>5.104480</td>\n",
       "      <td>334176</td>\n",
       "    </tr>\n",
       "    <tr>\n",
       "      <th>2</th>\n",
       "      <td>Den Haag</td>\n",
       "      <td>52.078663</td>\n",
       "      <td>4.288788</td>\n",
       "      <td>514861</td>\n",
       "    </tr>\n",
       "    <tr>\n",
       "      <th>3</th>\n",
       "      <td>Immingham</td>\n",
       "      <td>53.612390</td>\n",
       "      <td>-0.222190</td>\n",
       "      <td>9642</td>\n",
       "    </tr>\n",
       "    <tr>\n",
       "      <th>4</th>\n",
       "      <td>Doncaster</td>\n",
       "      <td>53.522850</td>\n",
       "      <td>-1.131160</td>\n",
       "      <td>302400</td>\n",
       "    </tr>\n",
       "    <tr>\n",
       "      <th>5</th>\n",
       "      <td>Hoek van Holland</td>\n",
       "      <td>51.977500</td>\n",
       "      <td>4.133330</td>\n",
       "      <td>9382</td>\n",
       "    </tr>\n",
       "    <tr>\n",
       "      <th>6</th>\n",
       "      <td>Felixstowe</td>\n",
       "      <td>51.963750</td>\n",
       "      <td>1.351100</td>\n",
       "      <td>23689</td>\n",
       "    </tr>\n",
       "    <tr>\n",
       "      <th>7</th>\n",
       "      <td>Ipswich</td>\n",
       "      <td>52.059170</td>\n",
       "      <td>1.155450</td>\n",
       "      <td>133384</td>\n",
       "    </tr>\n",
       "    <tr>\n",
       "      <th>8</th>\n",
       "      <td>Colchester</td>\n",
       "      <td>51.889210</td>\n",
       "      <td>0.904210</td>\n",
       "      <td>104390</td>\n",
       "    </tr>\n",
       "    <tr>\n",
       "      <th>9</th>\n",
       "      <td>London</td>\n",
       "      <td>51.509865</td>\n",
       "      <td>-0.118092</td>\n",
       "      <td>8787892</td>\n",
       "    </tr>\n",
       "    <tr>\n",
       "      <th>10</th>\n",
       "      <td>Rotterdam</td>\n",
       "      <td>51.922500</td>\n",
       "      <td>4.479170</td>\n",
       "      <td>623652</td>\n",
       "    </tr>\n",
       "    <tr>\n",
       "      <th>11</th>\n",
       "      <td>Gouda</td>\n",
       "      <td>52.016670</td>\n",
       "      <td>4.708330</td>\n",
       "      <td>70939</td>\n",
       "    </tr>\n",
       "  </tbody>\n",
       "</table>\n",
       "</div>"
      ],
      "text/plain": [
       "                  id   latitude  longitude  population\n",
       "0          Amsterdam  52.379189   4.899431      821752\n",
       "1            Utrecht  52.092876   5.104480      334176\n",
       "2           Den Haag  52.078663   4.288788      514861\n",
       "3          Immingham  53.612390  -0.222190        9642\n",
       "4          Doncaster  53.522850  -1.131160      302400\n",
       "5   Hoek van Holland  51.977500   4.133330        9382\n",
       "6         Felixstowe  51.963750   1.351100       23689\n",
       "7            Ipswich  52.059170   1.155450      133384\n",
       "8         Colchester  51.889210   0.904210      104390\n",
       "9             London  51.509865  -0.118092     8787892\n",
       "10         Rotterdam  51.922500   4.479170      623652\n",
       "11             Gouda  52.016670   4.708330       70939"
      ]
     },
     "execution_count": 41,
     "metadata": {},
     "output_type": "execute_result"
    }
   ],
   "source": [
    "read = pd.read_csv ('transport-nodes.csv')\n",
    "read.head(12)"
   ]
  },
  {
   "cell_type": "code",
   "execution_count": 42,
   "id": "cc2668ee",
   "metadata": {},
   "outputs": [
    {
     "data": {
      "text/html": [
       "<div>\n",
       "<style scoped>\n",
       "    .dataframe tbody tr th:only-of-type {\n",
       "        vertical-align: middle;\n",
       "    }\n",
       "\n",
       "    .dataframe tbody tr th {\n",
       "        vertical-align: top;\n",
       "    }\n",
       "\n",
       "    .dataframe thead th {\n",
       "        text-align: right;\n",
       "    }\n",
       "</style>\n",
       "<table border=\"1\" class=\"dataframe\">\n",
       "  <thead>\n",
       "    <tr style=\"text-align: right;\">\n",
       "      <th></th>\n",
       "      <th>src</th>\n",
       "      <th>dst</th>\n",
       "      <th>relationship</th>\n",
       "      <th>cost</th>\n",
       "    </tr>\n",
       "  </thead>\n",
       "  <tbody>\n",
       "    <tr>\n",
       "      <th>0</th>\n",
       "      <td>Amsterdam</td>\n",
       "      <td>Utrecht</td>\n",
       "      <td>EROAD</td>\n",
       "      <td>46</td>\n",
       "    </tr>\n",
       "    <tr>\n",
       "      <th>1</th>\n",
       "      <td>Amsterdam</td>\n",
       "      <td>Den Haag</td>\n",
       "      <td>EROAD</td>\n",
       "      <td>59</td>\n",
       "    </tr>\n",
       "    <tr>\n",
       "      <th>2</th>\n",
       "      <td>Den Haag</td>\n",
       "      <td>Rotterdam</td>\n",
       "      <td>EROAD</td>\n",
       "      <td>26</td>\n",
       "    </tr>\n",
       "    <tr>\n",
       "      <th>3</th>\n",
       "      <td>Amsterdam</td>\n",
       "      <td>Immingham</td>\n",
       "      <td>EROAD</td>\n",
       "      <td>369</td>\n",
       "    </tr>\n",
       "    <tr>\n",
       "      <th>4</th>\n",
       "      <td>Immingham</td>\n",
       "      <td>Doncaster</td>\n",
       "      <td>EROAD</td>\n",
       "      <td>74</td>\n",
       "    </tr>\n",
       "    <tr>\n",
       "      <th>5</th>\n",
       "      <td>Doncaster</td>\n",
       "      <td>London</td>\n",
       "      <td>EROAD</td>\n",
       "      <td>277</td>\n",
       "    </tr>\n",
       "    <tr>\n",
       "      <th>6</th>\n",
       "      <td>Hoek van Holland</td>\n",
       "      <td>Den Haag</td>\n",
       "      <td>EROAD</td>\n",
       "      <td>27</td>\n",
       "    </tr>\n",
       "    <tr>\n",
       "      <th>7</th>\n",
       "      <td>Felixstowe</td>\n",
       "      <td>Hoek van Holland</td>\n",
       "      <td>EROAD</td>\n",
       "      <td>207</td>\n",
       "    </tr>\n",
       "    <tr>\n",
       "      <th>8</th>\n",
       "      <td>Ipswich</td>\n",
       "      <td>Felixstowe</td>\n",
       "      <td>EROAD</td>\n",
       "      <td>22</td>\n",
       "    </tr>\n",
       "    <tr>\n",
       "      <th>9</th>\n",
       "      <td>Colchester</td>\n",
       "      <td>Ipswich</td>\n",
       "      <td>EROAD</td>\n",
       "      <td>32</td>\n",
       "    </tr>\n",
       "    <tr>\n",
       "      <th>10</th>\n",
       "      <td>London</td>\n",
       "      <td>Colchester</td>\n",
       "      <td>EROAD</td>\n",
       "      <td>106</td>\n",
       "    </tr>\n",
       "    <tr>\n",
       "      <th>11</th>\n",
       "      <td>Gouda</td>\n",
       "      <td>Rotterdam</td>\n",
       "      <td>EROAD</td>\n",
       "      <td>25</td>\n",
       "    </tr>\n",
       "    <tr>\n",
       "      <th>12</th>\n",
       "      <td>Gouda</td>\n",
       "      <td>Utrecht</td>\n",
       "      <td>EROAD</td>\n",
       "      <td>35</td>\n",
       "    </tr>\n",
       "    <tr>\n",
       "      <th>13</th>\n",
       "      <td>Den Haag</td>\n",
       "      <td>Gouda</td>\n",
       "      <td>EROAD</td>\n",
       "      <td>32</td>\n",
       "    </tr>\n",
       "    <tr>\n",
       "      <th>14</th>\n",
       "      <td>Hoek van Holland</td>\n",
       "      <td>Rotterdam</td>\n",
       "      <td>EROAD</td>\n",
       "      <td>33</td>\n",
       "    </tr>\n",
       "  </tbody>\n",
       "</table>\n",
       "</div>"
      ],
      "text/plain": [
       "                 src               dst relationship  cost\n",
       "0          Amsterdam           Utrecht        EROAD    46\n",
       "1          Amsterdam          Den Haag        EROAD    59\n",
       "2           Den Haag         Rotterdam        EROAD    26\n",
       "3          Amsterdam         Immingham        EROAD   369\n",
       "4          Immingham         Doncaster        EROAD    74\n",
       "5          Doncaster            London        EROAD   277\n",
       "6   Hoek van Holland          Den Haag        EROAD    27\n",
       "7         Felixstowe  Hoek van Holland        EROAD   207\n",
       "8            Ipswich        Felixstowe        EROAD    22\n",
       "9         Colchester           Ipswich        EROAD    32\n",
       "10            London        Colchester        EROAD   106\n",
       "11             Gouda         Rotterdam        EROAD    25\n",
       "12             Gouda           Utrecht        EROAD    35\n",
       "13          Den Haag             Gouda        EROAD    32\n",
       "14  Hoek van Holland         Rotterdam        EROAD    33"
      ]
     },
     "execution_count": 42,
     "metadata": {},
     "output_type": "execute_result"
    }
   ],
   "source": [
    "read = pd.read_csv('transport-relationships.csv')\n",
    "read.head(15)"
   ]
  },
  {
   "cell_type": "code",
   "execution_count": 43,
   "id": "992df67e",
   "metadata": {},
   "outputs": [
    {
     "name": "stdout",
     "output_type": "stream",
     "text": [
      "['Amsterdam', 'Utrecht', 'Den Haag', 'Immingham', 'Doncaster', 'Hoek van Holland', 'Felixstowe', 'Ipswich', 'Colchester', 'London', 'Rotterdam', 'Gouda']\n"
     ]
    }
   ],
   "source": [
    "#un tableau pour recuperer toutes les villes\n",
    "\n",
    "ville = []\n",
    "i=0\n",
    "while i<12:\n",
    "    ville.append((df['id'][i]))\n",
    "    i=i+1\n",
    "print(ville)"
   ]
  },
  {
   "cell_type": "code",
   "execution_count": 44,
   "id": "678a1930",
   "metadata": {},
   "outputs": [
    {
     "name": "stdout",
     "output_type": "stream",
     "text": [
      "[821, 334, 514, 9, 302, 9, 23, 133, 104, 8787, 623, 70]\n"
     ]
    }
   ],
   "source": [
    "\n",
    "population = []\n",
    "i=0\n",
    "while i<12:\n",
    "    population.append((df['population'][i])//1000)\n",
    "    i=i+1\n",
    "print(population)"
   ]
  },
  {
   "cell_type": "code",
   "execution_count": 45,
   "id": "32e30c4d",
   "metadata": {},
   "outputs": [],
   "source": [
    "#garder les noeuds et leurs destinations dans une liste\n",
    "listNoeuds = []\n",
    "i=0\n",
    "while i<15:\n",
    "    listNoeuds.append((str(dh['src'][i]),str(dh['dst'][i])))\n",
    "    i=i+1"
   ]
  },
  {
   "cell_type": "code",
   "execution_count": 46,
   "id": "fda563ef",
   "metadata": {},
   "outputs": [
    {
     "data": {
      "image/png": "[encoded data removed]",
      "text/plain": [
       "<Figure size 432x288 with 1 Axes>"
      ]
     },
     "metadata": {},
     "output_type": "display_data"
    }
   ],
   "source": [
    "dessiner = nx.Graph()\n",
    "i = 0\n",
    "while i<12:\n",
    "    dessiner.add_node(df['id'][i])\n",
    "    i=i+1\n",
    "dessiner.add_edges_from(listNoeuds)\n",
    "nx.draw_shell(dessiner, with_labels=True,node_size=population, node_color='yellow',edge_color='red')\n"
   ]
  },
  {
   "cell_type": "code",
   "execution_count": 47,
   "id": "0d93e330",
   "metadata": {},
   "outputs": [
    {
     "data": {
      "text/plain": [
       "{'Amsterdam': {},\n",
       " 'Utrecht': {},\n",
       " 'Den Haag': {},\n",
       " 'Immingham': {},\n",
       " 'Doncaster': {},\n",
       " 'Hoek van Holland': {},\n",
       " 'Felixstowe': {},\n",
       " 'Ipswich': {},\n",
       " 'Colchester': {},\n",
       " 'London': {},\n",
       " 'Rotterdam': {},\n",
       " 'Gouda': {}}"
      ]
     },
     "execution_count": 47,
     "metadata": {},
     "output_type": "execute_result"
    }
   ],
   "source": [
    "dict(dessiner.nodes.data())\n"
   ]
  },
  {
   "cell_type": "code",
   "execution_count": 48,
   "id": "7d122abf",
   "metadata": {},
   "outputs": [],
   "source": [
    "AjoutDict = {}\n",
    "def AjouterAttribut(myGraph,dfnode,NameAtt,Index):\n",
    "    i=0\n",
    "    while i<12:\n",
    "        AjoutDict[(dfnode[Index][i])] = ({NameAtt : dfnode[NameAtt][i] })\n",
    "        i=i+1\n",
    "        nx.set_node_attributes(myGraph, AjoutDict)"
   ]
  },
  {
   "cell_type": "code",
   "execution_count": 49,
   "id": "50c97504",
   "metadata": {},
   "outputs": [],
   "source": [
    "AjouterAttribut(dessiner,df,'population','id')\n",
    "AjouterAttribut(dessiner,df,'latitude','id')\n",
    "AjouterAttribut(dessiner,df,'longitude','id')"
   ]
  },
  {
   "cell_type": "code",
   "execution_count": 50,
   "id": "d6aa3f1a",
   "metadata": {},
   "outputs": [
    {
     "data": {
      "text/plain": [
       "{'Amsterdam': {'population': 821752,\n",
       "  'latitude': 52.379189,\n",
       "  'longitude': 4.899431},\n",
       " 'Utrecht': {'population': 334176,\n",
       "  'latitude': 52.092876,\n",
       "  'longitude': 5.10448},\n",
       " 'Den Haag': {'population': 514861,\n",
       "  'latitude': 52.078663,\n",
       "  'longitude': 4.288788},\n",
       " 'Immingham': {'population': 9642,\n",
       "  'latitude': 53.61239,\n",
       "  'longitude': -0.22219},\n",
       " 'Doncaster': {'population': 302400,\n",
       "  'latitude': 53.52285,\n",
       "  'longitude': -1.13116},\n",
       " 'Hoek van Holland': {'population': 9382,\n",
       "  'latitude': 51.9775,\n",
       "  'longitude': 4.13333},\n",
       " 'Felixstowe': {'population': 23689,\n",
       "  'latitude': 51.96375,\n",
       "  'longitude': 1.3511},\n",
       " 'Ipswich': {'population': 133384, 'latitude': 52.05917, 'longitude': 1.15545},\n",
       " 'Colchester': {'population': 104390,\n",
       "  'latitude': 51.88921,\n",
       "  'longitude': 0.90421},\n",
       " 'London': {'population': 8787892,\n",
       "  'latitude': 51.509865,\n",
       "  'longitude': -0.118092},\n",
       " 'Rotterdam': {'population': 623652,\n",
       "  'latitude': 51.9225,\n",
       "  'longitude': 4.47917},\n",
       " 'Gouda': {'population': 70939, 'latitude': 52.01667, 'longitude': 4.70833}}"
      ]
     },
     "execution_count": 50,
     "metadata": {},
     "output_type": "execute_result"
    }
   ],
   "source": [
    "dict(dessiner.nodes.data())"
   ]
  },
  {
   "cell_type": "code",
   "execution_count": 51,
   "id": "5cd42267",
   "metadata": {},
   "outputs": [],
   "source": [
    "for i in dessiner.nodes:\n",
    "    basemap = folium.Map(location = [dessiner.nodes[i]['latitude'], dessiner.nodes[i]['longitude']],\n",
    "        tiles='Stamen Toner', width='%100', height='%100', zoom_start=5)"
   ]
  },
  {
   "cell_type": "code",
   "execution_count": 2,
   "id": "73352390",
   "metadata": {},
   "outputs": [
    {
     "ename": "NameError",
     "evalue": "name 'basemap' is not defined",
     "output_type": "error",
     "traceback": [
      "\u001b[1;31m---------------------------------------------------------------------------\u001b[0m",
      "\u001b[1;31mNameError\u001b[0m                                 Traceback (most recent call last)",
      "\u001b[1;32m<ipython-input-2-b820f31c1f20>\u001b[0m in \u001b[0;36m<module>\u001b[1;34m\u001b[0m\n\u001b[1;32m----> 1\u001b[1;33m \u001b[0mbasemap\u001b[0m\u001b[1;33m\u001b[0m\u001b[1;33m\u001b[0m\u001b[0m\n\u001b[0m",
      "\u001b[1;31mNameError\u001b[0m: name 'basemap' is not defined"
     ]
    }
   ],
   "source": [
    "basemap"
   ]
  },
  {
   "cell_type": "code",
   "execution_count": 53,
   "id": "79934020",
   "metadata": {},
   "outputs": [],
   "source": [
    "#Ajout de marqueurs pour tous les noeuds du reseau avec folium.Marker\n",
    "def marker(desssiner):\n",
    "    for i in dessiner.nodes:\n",
    "        folium.Marker([dessiner.nodes[i]['latitude'],dessiner.nodes[i]['longitude']],zoom_start=5).add_to(basemap)\n",
    "    return basemap"
   ]
  },
  {
   "cell_type": "code",
   "execution_count": 3,
   "id": "03983d7d",
   "metadata": {},
   "outputs": [
    {
     "ename": "NameError",
     "evalue": "name 'marker' is not defined",
     "output_type": "error",
     "traceback": [
      "\u001b[1;31m---------------------------------------------------------------------------\u001b[0m",
      "\u001b[1;31mNameError\u001b[0m                                 Traceback (most recent call last)",
      "\u001b[1;32m<ipython-input-3-048886f95f72>\u001b[0m in \u001b[0;36m<module>\u001b[1;34m\u001b[0m\n\u001b[1;32m----> 1\u001b[1;33m \u001b[0mmarker\u001b[0m\u001b[1;33m(\u001b[0m\u001b[0mdessiner\u001b[0m\u001b[1;33m)\u001b[0m\u001b[1;33m\u001b[0m\u001b[1;33m\u001b[0m\u001b[0m\n\u001b[0m",
      "\u001b[1;31mNameError\u001b[0m: name 'marker' is not defined"
     ]
    }
   ],
   "source": [
    "marker(dessiner)"
   ]
  },
  {
   "cell_type": "code",
   "execution_count": 4,
   "id": "efda91a8",
   "metadata": {},
   "outputs": [],
   "source": [
    "def construirePointsImage(dessiner):\n",
    "    points=[]\n",
    "    for i in dessiner.nodes:\n",
    "        for neighbor in dessiner.neighbors(i):\n",
    "            points.append([[dessiner.nodes[i]['latitude'], dessiner.nodes[i]['longitude']], [dessiner.nodes[neighbor]['latitude'], dessiner.nodes[neighbor]['longitude']]])\n",
    "    return points"
   ]
  },
  {
   "cell_type": "code",
   "execution_count": 56,
   "id": "597a7b5a",
   "metadata": {},
   "outputs": [
    {
     "name": "stdout",
     "output_type": "stream",
     "text": [
      "[[[52.379189, 4.899431], [52.092876, 5.10448]], [[52.379189, 4.899431], [52.078663, 4.288788]], [[52.379189, 4.899431], [53.61239, -0.22219]], [[52.092876, 5.10448], [52.379189, 4.899431]], [[52.092876, 5.10448], [52.01667, 4.70833]], [[52.078663, 4.288788], [52.379189, 4.899431]], [[52.078663, 4.288788], [51.9225, 4.47917]], [[52.078663, 4.288788], [51.9775, 4.13333]], [[52.078663, 4.288788], [52.01667, 4.70833]], [[53.61239, -0.22219], [52.379189, 4.899431]], [[53.61239, -0.22219], [53.52285, -1.13116]], [[53.52285, -1.13116], [53.61239, -0.22219]], [[53.52285, -1.13116], [51.509865, -0.118092]], [[51.9775, 4.13333], [52.078663, 4.288788]], [[51.9775, 4.13333], [51.96375, 1.3511]], [[51.9775, 4.13333], [51.9225, 4.47917]], [[51.96375, 1.3511], [51.9775, 4.13333]], [[51.96375, 1.3511], [52.05917, 1.15545]], [[52.05917, 1.15545], [51.96375, 1.3511]], [[52.05917, 1.15545], [51.88921, 0.90421]], [[51.88921, 0.90421], [52.05917, 1.15545]], [[51.88921, 0.90421], [51.509865, -0.118092]], [[51.509865, -0.118092], [53.52285, -1.13116]], [[51.509865, -0.118092], [51.88921, 0.90421]], [[51.9225, 4.47917], [52.078663, 4.288788]], [[51.9225, 4.47917], [52.01667, 4.70833]], [[51.9225, 4.47917], [51.9775, 4.13333]], [[52.01667, 4.70833], [51.9225, 4.47917]], [[52.01667, 4.70833], [52.092876, 5.10448]], [[52.01667, 4.70833], [52.078663, 4.288788]]]\n"
     ]
    }
   ],
   "source": [
    "coordonneesvoisins = construirePointsImage(dessiner)\n",
    "print(coordonneesvoisins)\n"
   ]
  },
  {
   "cell_type": "code",
   "execution_count": 57,
   "id": "126011dd",
   "metadata": {},
   "outputs": [],
   "source": [
    "def visualiserFolium(dessiner, points, locationpardefaut = [52.3791890, 4.899431], tiles='Stamen Toner', explored = None ):\n",
    "    base = folium.vector_layers.PolyLine(points, color='yellow', weight=3).add_to(basemap)\n",
    "    return base"
   ]
  },
  {
   "cell_type": "code",
   "execution_count": 21,
   "id": "3a728692",
   "metadata": {},
   "outputs": [
    {
     "data": {
      "text/plain": [
       "<folium.vector_layers.PolyLine at 0x2338b707640>"
      ]
     },
     "execution_count": 21,
     "metadata": {},
     "output_type": "execute_result"
    }
   ],
   "source": [
    "visualiserFolium(dessiner, coordonneesvoisins )"
   ]
  },
  {
   "cell_type": "code",
   "execution_count": 22,
   "id": "e9a81d23",
   "metadata": {
    "scrolled": true
   },
   "outputs": [
    {
     "data": {
      "text/html": [
       "<div style=\"width:100%;\"><div style=\"position:relative;width:100%;height:0;padding-bottom:60%;\"><span style=\"color:#565656\">Make this Notebook Trusted to load map: File -> Trust Notebook</span><iframe src=\"about:blank\" style=\"position:absolute;width:100%;height:100%;left:0;top:0;border:none !important;\" data-html=%3C%21DOCTYPE%20html%3E%0A%3Chead%3E%20%20%20%20%0A%20%20%20%20%3Cmeta%20http-equiv%3D%22content-type%22%20content%3D%22text/html%3B%20charset%3DUTF-8%22%20/%3E%0A%20%20%20%20%0A%20%20%20%20%20%20%20%20%3Cscript%3E%0A%20%20%20%20%20%20%20%20%20%20%20%20L_NO_TOUCH%20%3D%20false%3B%0A%20%20%20%20%20%20%20%20%20%20%20%20L_DISABLE_3D%20%3D%20false%3B%0A%20%20%20%20%20%20%20%20%3C/script%3E%0A%20%20%20%20%0A%20%20%20%20%3Cstyle%3Ehtml%2C%20body%20%7Bwidth%3A%20100%25%3Bheight%3A%20100%25%3Bmargin%3A%200%3Bpadding%3A%200%3B%7D%3C/style%3E%0A%20%20%20%20%3Cstyle%3E%23map%20%7Bposition%3Aabsolute%3Btop%3A0%3Bbottom%3A0%3Bright%3A0%3Bleft%3A0%3B%7D%3C/style%3E%0A%20%20%20%20%3Cscript%20src%3D%22https%3A//cdn.jsdelivr.net/npm/leaflet%401.6.0/dist/leaflet.js%22%3E%3C/script%3E%0A%20%20%20%20%3Cscript%20src%3D%22https%3A//code.jquery.com/jquery-1.12.4.min.js%22%3E%3C/script%3E%0A%20%20%20%20%3Cscript%20src%3D%22https%3A//maxcdn.bootstrapcdn.com/bootstrap/3.2.0/js/bootstrap.min.js%22%3E%3C/script%3E%0A%20%20%20%20%3Cscript%20src%3D%22https%3A//cdnjs.cloudflare.com/ajax/libs/Leaflet.awesome-markers/2.0.2/leaflet.awesome-markers.js%22%3E%3C/script%3E%0A%20%20%20%20%3Clink%20rel%3D%22stylesheet%22%20href%3D%22https%3A//cdn.jsdelivr.net/npm/leaflet%401.6.0/dist/leaflet.css%22/%3E%0A%20%20%20%20%3Clink%20rel%3D%22stylesheet%22%20href%3D%22https%3A//maxcdn.bootstrapcdn.com/bootstrap/3.2.0/css/bootstrap.min.css%22/%3E%0A%20%20%20%20%3Clink%20rel%3D%22stylesheet%22%20href%3D%22https%3A//maxcdn.bootstrapcdn.com/bootstrap/3.2.0/css/bootstrap-theme.min.css%22/%3E%0A%20%20%20%20%3Clink%20rel%3D%22stylesheet%22%20href%3D%22https%3A//maxcdn.bootstrapcdn.com/font-awesome/4.6.3/css/font-awesome.min.css%22/%3E%0A%20%20%20%20%3Clink%20rel%3D%22stylesheet%22%20href%3D%22https%3A//cdnjs.cloudflare.com/ajax/libs/Leaflet.awesome-markers/2.0.2/leaflet.awesome-markers.css%22/%3E%0A%20%20%20%20%3Clink%20rel%3D%22stylesheet%22%20href%3D%22https%3A//cdn.jsdelivr.net/gh/python-visualization/folium/folium/templates/leaflet.awesome.rotate.min.css%22/%3E%0A%20%20%20%20%0A%20%20%20%20%20%20%20%20%20%20%20%20%3Cmeta%20name%3D%22viewport%22%20content%3D%22width%3Ddevice-width%2C%0A%20%20%20%20%20%20%20%20%20%20%20%20%20%20%20%20initial-scale%3D1.0%2C%20maximum-scale%3D1.0%2C%20user-scalable%3Dno%22%20/%3E%0A%20%20%20%20%20%20%20%20%20%20%20%20%3Cstyle%3E%0A%20%20%20%20%20%20%20%20%20%20%20%20%20%20%20%20%23map_518dfaace5eb4aec99aee2bc34b0cbda%20%7B%0A%20%20%20%20%20%20%20%20%20%20%20%20%20%20%20%20%20%20%20%20position%3A%20relative%3B%0A%20%20%20%20%20%20%20%20%20%20%20%20%20%20%20%20%20%20%20%20width%3A%20100.0%25%3B%0A%20%20%20%20%20%20%20%20%20%20%20%20%20%20%20%20%20%20%20%20height%3A%20100.0%25%3B%0A%20%20%20%20%20%20%20%20%20%20%20%20%20%20%20%20%20%20%20%20left%3A%200.0%25%3B%0A%20%20%20%20%20%20%20%20%20%20%20%20%20%20%20%20%20%20%20%20top%3A%200.0%25%3B%0A%20%20%20%20%20%20%20%20%20%20%20%20%20%20%20%20%7D%0A%20%20%20%20%20%20%20%20%20%20%20%20%3C/style%3E%0A%20%20%20%20%20%20%20%20%0A%3C/head%3E%0A%3Cbody%3E%20%20%20%20%0A%20%20%20%20%0A%20%20%20%20%20%20%20%20%20%20%20%20%3Cdiv%20class%3D%22folium-map%22%20id%3D%22map_518dfaace5eb4aec99aee2bc34b0cbda%22%20%3E%3C/div%3E%0A%20%20%20%20%20%20%20%20%0A%3C/body%3E%0A%3Cscript%3E%20%20%20%20%0A%20%20%20%20%0A%20%20%20%20%20%20%20%20%20%20%20%20var%20map_518dfaace5eb4aec99aee2bc34b0cbda%20%3D%20L.map%28%0A%20%20%20%20%20%20%20%20%20%20%20%20%20%20%20%20%22map_518dfaace5eb4aec99aee2bc34b0cbda%22%2C%0A%20%20%20%20%20%20%20%20%20%20%20%20%20%20%20%20%7B%0A%20%20%20%20%20%20%20%20%20%20%20%20%20%20%20%20%20%20%20%20center%3A%20%5B52.01667%2C%204.70833%5D%2C%0A%20%20%20%20%20%20%20%20%20%20%20%20%20%20%20%20%20%20%20%20crs%3A%20L.CRS.EPSG3857%2C%0A%20%20%20%20%20%20%20%20%20%20%20%20%20%20%20%20%20%20%20%20zoom%3A%205%2C%0A%20%20%20%20%20%20%20%20%20%20%20%20%20%20%20%20%20%20%20%20zoomControl%3A%20true%2C%0A%20%20%20%20%20%20%20%20%20%20%20%20%20%20%20%20%20%20%20%20preferCanvas%3A%20false%2C%0A%20%20%20%20%20%20%20%20%20%20%20%20%20%20%20%20%7D%0A%20%20%20%20%20%20%20%20%20%20%20%20%29%3B%0A%0A%20%20%20%20%20%20%20%20%20%20%20%20%0A%0A%20%20%20%20%20%20%20%20%0A%20%20%20%20%0A%20%20%20%20%20%20%20%20%20%20%20%20var%20tile_layer_fa051c25763645f2a10ef81b4efc4395%20%3D%20L.tileLayer%28%0A%20%20%20%20%20%20%20%20%20%20%20%20%20%20%20%20%22https%3A//stamen-tiles-%7Bs%7D.a.ssl.fastly.net/toner/%7Bz%7D/%7Bx%7D/%7By%7D.png%22%2C%0A%20%20%20%20%20%20%20%20%20%20%20%20%20%20%20%20%7B%22attribution%22%3A%20%22Map%20tiles%20by%20%5Cu003ca%20href%3D%5C%22http%3A//stamen.com%5C%22%5Cu003eStamen%20Design%5Cu003c/a%5Cu003e%2C%20under%20%5Cu003ca%20href%3D%5C%22http%3A//creativecommons.org/licenses/by/3.0%5C%22%5Cu003eCC%20BY%203.0%5Cu003c/a%5Cu003e.%20Data%20by%20%5Cu0026copy%3B%20%5Cu003ca%20href%3D%5C%22http%3A//openstreetmap.org%5C%22%5Cu003eOpenStreetMap%5Cu003c/a%5Cu003e%2C%20under%20%5Cu003ca%20href%3D%5C%22http%3A//www.openstreetmap.org/copyright%5C%22%5Cu003eODbL%5Cu003c/a%5Cu003e.%22%2C%20%22detectRetina%22%3A%20false%2C%20%22maxNativeZoom%22%3A%2018%2C%20%22maxZoom%22%3A%2018%2C%20%22minZoom%22%3A%200%2C%20%22noWrap%22%3A%20false%2C%20%22opacity%22%3A%201%2C%20%22subdomains%22%3A%20%22abc%22%2C%20%22tms%22%3A%20false%7D%0A%20%20%20%20%20%20%20%20%20%20%20%20%29.addTo%28map_518dfaace5eb4aec99aee2bc34b0cbda%29%3B%0A%20%20%20%20%20%20%20%20%0A%20%20%20%20%0A%20%20%20%20%20%20%20%20%20%20%20%20var%20marker_4809d54ee3a14519a9619d280f601784%20%3D%20L.marker%28%0A%20%20%20%20%20%20%20%20%20%20%20%20%20%20%20%20%5B52.379189%2C%204.899431%5D%2C%0A%20%20%20%20%20%20%20%20%20%20%20%20%20%20%20%20%7B%22zoomStart%22%3A%205%7D%0A%20%20%20%20%20%20%20%20%20%20%20%20%29.addTo%28map_518dfaace5eb4aec99aee2bc34b0cbda%29%3B%0A%20%20%20%20%20%20%20%20%0A%20%20%20%20%0A%20%20%20%20%20%20%20%20%20%20%20%20var%20marker_d997e1cd0e564718be08b695780924f8%20%3D%20L.marker%28%0A%20%20%20%20%20%20%20%20%20%20%20%20%20%20%20%20%5B52.092876%2C%205.10448%5D%2C%0A%20%20%20%20%20%20%20%20%20%20%20%20%20%20%20%20%7B%22zoomStart%22%3A%205%7D%0A%20%20%20%20%20%20%20%20%20%20%20%20%29.addTo%28map_518dfaace5eb4aec99aee2bc34b0cbda%29%3B%0A%20%20%20%20%20%20%20%20%0A%20%20%20%20%0A%20%20%20%20%20%20%20%20%20%20%20%20var%20marker_f9dd96619d4046b5ad06b024da906fad%20%3D%20L.marker%28%0A%20%20%20%20%20%20%20%20%20%20%20%20%20%20%20%20%5B52.078663%2C%204.288788%5D%2C%0A%20%20%20%20%20%20%20%20%20%20%20%20%20%20%20%20%7B%22zoomStart%22%3A%205%7D%0A%20%20%20%20%20%20%20%20%20%20%20%20%29.addTo%28map_518dfaace5eb4aec99aee2bc34b0cbda%29%3B%0A%20%20%20%20%20%20%20%20%0A%20%20%20%20%0A%20%20%20%20%20%20%20%20%20%20%20%20var%20marker_1e916c3927d5471ca98d9136047dbca4%20%3D%20L.marker%28%0A%20%20%20%20%20%20%20%20%20%20%20%20%20%20%20%20%5B53.61239%2C%20-0.22219%5D%2C%0A%20%20%20%20%20%20%20%20%20%20%20%20%20%20%20%20%7B%22zoomStart%22%3A%205%7D%0A%20%20%20%20%20%20%20%20%20%20%20%20%29.addTo%28map_518dfaace5eb4aec99aee2bc34b0cbda%29%3B%0A%20%20%20%20%20%20%20%20%0A%20%20%20%20%0A%20%20%20%20%20%20%20%20%20%20%20%20var%20marker_bd72a80b6d344ce4bd67a03c354eb739%20%3D%20L.marker%28%0A%20%20%20%20%20%20%20%20%20%20%20%20%20%20%20%20%5B53.52285%2C%20-1.13116%5D%2C%0A%20%20%20%20%20%20%20%20%20%20%20%20%20%20%20%20%7B%22zoomStart%22%3A%205%7D%0A%20%20%20%20%20%20%20%20%20%20%20%20%29.addTo%28map_518dfaace5eb4aec99aee2bc34b0cbda%29%3B%0A%20%20%20%20%20%20%20%20%0A%20%20%20%20%0A%20%20%20%20%20%20%20%20%20%20%20%20var%20marker_c21af7c9a4e74958905b7b445a22cdfa%20%3D%20L.marker%28%0A%20%20%20%20%20%20%20%20%20%20%20%20%20%20%20%20%5B51.9775%2C%204.13333%5D%2C%0A%20%20%20%20%20%20%20%20%20%20%20%20%20%20%20%20%7B%22zoomStart%22%3A%205%7D%0A%20%20%20%20%20%20%20%20%20%20%20%20%29.addTo%28map_518dfaace5eb4aec99aee2bc34b0cbda%29%3B%0A%20%20%20%20%20%20%20%20%0A%20%20%20%20%0A%20%20%20%20%20%20%20%20%20%20%20%20var%20marker_78d35fbb37da4b6b8cdf59f0fff6ab7a%20%3D%20L.marker%28%0A%20%20%20%20%20%20%20%20%20%20%20%20%20%20%20%20%5B51.96375%2C%201.3511%5D%2C%0A%20%20%20%20%20%20%20%20%20%20%20%20%20%20%20%20%7B%22zoomStart%22%3A%205%7D%0A%20%20%20%20%20%20%20%20%20%20%20%20%29.addTo%28map_518dfaace5eb4aec99aee2bc34b0cbda%29%3B%0A%20%20%20%20%20%20%20%20%0A%20%20%20%20%0A%20%20%20%20%20%20%20%20%20%20%20%20var%20marker_4083ce92fda0403b83e225ee344720d9%20%3D%20L.marker%28%0A%20%20%20%20%20%20%20%20%20%20%20%20%20%20%20%20%5B52.05917%2C%201.15545%5D%2C%0A%20%20%20%20%20%20%20%20%20%20%20%20%20%20%20%20%7B%22zoomStart%22%3A%205%7D%0A%20%20%20%20%20%20%20%20%20%20%20%20%29.addTo%28map_518dfaace5eb4aec99aee2bc34b0cbda%29%3B%0A%20%20%20%20%20%20%20%20%0A%20%20%20%20%0A%20%20%20%20%20%20%20%20%20%20%20%20var%20marker_154c81a7f206422fbef6960c91a9a842%20%3D%20L.marker%28%0A%20%20%20%20%20%20%20%20%20%20%20%20%20%20%20%20%5B51.88921%2C%200.90421%5D%2C%0A%20%20%20%20%20%20%20%20%20%20%20%20%20%20%20%20%7B%22zoomStart%22%3A%205%7D%0A%20%20%20%20%20%20%20%20%20%20%20%20%29.addTo%28map_518dfaace5eb4aec99aee2bc34b0cbda%29%3B%0A%20%20%20%20%20%20%20%20%0A%20%20%20%20%0A%20%20%20%20%20%20%20%20%20%20%20%20var%20marker_3dd2b92c658e4b3db5c44f8d27831fb9%20%3D%20L.marker%28%0A%20%20%20%20%20%20%20%20%20%20%20%20%20%20%20%20%5B51.509865%2C%20-0.118092%5D%2C%0A%20%20%20%20%20%20%20%20%20%20%20%20%20%20%20%20%7B%22zoomStart%22%3A%205%7D%0A%20%20%20%20%20%20%20%20%20%20%20%20%29.addTo%28map_518dfaace5eb4aec99aee2bc34b0cbda%29%3B%0A%20%20%20%20%20%20%20%20%0A%20%20%20%20%0A%20%20%20%20%20%20%20%20%20%20%20%20var%20marker_fe9b79048b224ffab6f98bed3c7153aa%20%3D%20L.marker%28%0A%20%20%20%20%20%20%20%20%20%20%20%20%20%20%20%20%5B51.9225%2C%204.47917%5D%2C%0A%20%20%20%20%20%20%20%20%20%20%20%20%20%20%20%20%7B%22zoomStart%22%3A%205%7D%0A%20%20%20%20%20%20%20%20%20%20%20%20%29.addTo%28map_518dfaace5eb4aec99aee2bc34b0cbda%29%3B%0A%20%20%20%20%20%20%20%20%0A%20%20%20%20%0A%20%20%20%20%20%20%20%20%20%20%20%20var%20marker_e051130e4c75407f9dad2f7869bee626%20%3D%20L.marker%28%0A%20%20%20%20%20%20%20%20%20%20%20%20%20%20%20%20%5B52.01667%2C%204.70833%5D%2C%0A%20%20%20%20%20%20%20%20%20%20%20%20%20%20%20%20%7B%22zoomStart%22%3A%205%7D%0A%20%20%20%20%20%20%20%20%20%20%20%20%29.addTo%28map_518dfaace5eb4aec99aee2bc34b0cbda%29%3B%0A%20%20%20%20%20%20%20%20%0A%20%20%20%20%0A%20%20%20%20%20%20%20%20%20%20%20%20var%20poly_line_614c509f38ff448c82b913850867fa01%20%3D%20L.polyline%28%0A%20%20%20%20%20%20%20%20%20%20%20%20%20%20%20%20%5B%5B%5B52.379189%2C%204.899431%5D%2C%20%5B52.092876%2C%205.10448%5D%5D%2C%20%5B%5B52.379189%2C%204.899431%5D%2C%20%5B52.078663%2C%204.288788%5D%5D%2C%20%5B%5B52.379189%2C%204.899431%5D%2C%20%5B53.61239%2C%20-0.22219%5D%5D%2C%20%5B%5B52.092876%2C%205.10448%5D%2C%20%5B52.379189%2C%204.899431%5D%5D%2C%20%5B%5B52.092876%2C%205.10448%5D%2C%20%5B52.01667%2C%204.70833%5D%5D%2C%20%5B%5B52.078663%2C%204.288788%5D%2C%20%5B52.379189%2C%204.899431%5D%5D%2C%20%5B%5B52.078663%2C%204.288788%5D%2C%20%5B51.9225%2C%204.47917%5D%5D%2C%20%5B%5B52.078663%2C%204.288788%5D%2C%20%5B51.9775%2C%204.13333%5D%5D%2C%20%5B%5B52.078663%2C%204.288788%5D%2C%20%5B52.01667%2C%204.70833%5D%5D%2C%20%5B%5B53.61239%2C%20-0.22219%5D%2C%20%5B52.379189%2C%204.899431%5D%5D%2C%20%5B%5B53.61239%2C%20-0.22219%5D%2C%20%5B53.52285%2C%20-1.13116%5D%5D%2C%20%5B%5B53.52285%2C%20-1.13116%5D%2C%20%5B53.61239%2C%20-0.22219%5D%5D%2C%20%5B%5B53.52285%2C%20-1.13116%5D%2C%20%5B51.509865%2C%20-0.118092%5D%5D%2C%20%5B%5B51.9775%2C%204.13333%5D%2C%20%5B52.078663%2C%204.288788%5D%5D%2C%20%5B%5B51.9775%2C%204.13333%5D%2C%20%5B51.96375%2C%201.3511%5D%5D%2C%20%5B%5B51.9775%2C%204.13333%5D%2C%20%5B51.9225%2C%204.47917%5D%5D%2C%20%5B%5B51.96375%2C%201.3511%5D%2C%20%5B51.9775%2C%204.13333%5D%5D%2C%20%5B%5B51.96375%2C%201.3511%5D%2C%20%5B52.05917%2C%201.15545%5D%5D%2C%20%5B%5B52.05917%2C%201.15545%5D%2C%20%5B51.96375%2C%201.3511%5D%5D%2C%20%5B%5B52.05917%2C%201.15545%5D%2C%20%5B51.88921%2C%200.90421%5D%5D%2C%20%5B%5B51.88921%2C%200.90421%5D%2C%20%5B52.05917%2C%201.15545%5D%5D%2C%20%5B%5B51.88921%2C%200.90421%5D%2C%20%5B51.509865%2C%20-0.118092%5D%5D%2C%20%5B%5B51.509865%2C%20-0.118092%5D%2C%20%5B53.52285%2C%20-1.13116%5D%5D%2C%20%5B%5B51.509865%2C%20-0.118092%5D%2C%20%5B51.88921%2C%200.90421%5D%5D%2C%20%5B%5B51.9225%2C%204.47917%5D%2C%20%5B52.078663%2C%204.288788%5D%5D%2C%20%5B%5B51.9225%2C%204.47917%5D%2C%20%5B52.01667%2C%204.70833%5D%5D%2C%20%5B%5B51.9225%2C%204.47917%5D%2C%20%5B51.9775%2C%204.13333%5D%5D%2C%20%5B%5B52.01667%2C%204.70833%5D%2C%20%5B51.9225%2C%204.47917%5D%5D%2C%20%5B%5B52.01667%2C%204.70833%5D%2C%20%5B52.092876%2C%205.10448%5D%5D%2C%20%5B%5B52.01667%2C%204.70833%5D%2C%20%5B52.078663%2C%204.288788%5D%5D%5D%2C%0A%20%20%20%20%20%20%20%20%20%20%20%20%20%20%20%20%7B%22bubblingMouseEvents%22%3A%20true%2C%20%22color%22%3A%20%22yellow%22%2C%20%22dashArray%22%3A%20null%2C%20%22dashOffset%22%3A%20null%2C%20%22fill%22%3A%20false%2C%20%22fillColor%22%3A%20%22yellow%22%2C%20%22fillOpacity%22%3A%200.2%2C%20%22fillRule%22%3A%20%22evenodd%22%2C%20%22lineCap%22%3A%20%22round%22%2C%20%22lineJoin%22%3A%20%22round%22%2C%20%22noClip%22%3A%20false%2C%20%22opacity%22%3A%201.0%2C%20%22smoothFactor%22%3A%201.0%2C%20%22stroke%22%3A%20true%2C%20%22weight%22%3A%203%7D%0A%20%20%20%20%20%20%20%20%20%20%20%20%29.addTo%28map_518dfaace5eb4aec99aee2bc34b0cbda%29%3B%0A%20%20%20%20%20%20%20%20%0A%3C/script%3E onload=\"this.contentDocument.open();this.contentDocument.write(    decodeURIComponent(this.getAttribute('data-html')));this.contentDocument.close();\" allowfullscreen webkitallowfullscreen mozallowfullscreen></iframe></div></div>"
      ],
      "text/plain": [
       "<folium.folium.Map at 0x2338b707370>"
      ]
     },
     "execution_count": 22,
     "metadata": {},
     "output_type": "execute_result"
    }
   ],
   "source": [
    "basemap"
   ]
  },
  {
   "cell_type": "code",
   "execution_count": 176,
   "id": "f8f13e8a",
   "metadata": {},
   "outputs": [],
   "source": [
    "#PARTIE 2\n",
    "# Implementer la classe Noeud\n",
    "class Noeud:\n",
    "    def __init__(self,name):\n",
    "        self.name= name\n",
    "        self.attributs={}\n",
    "        self.listeNomVoisin=[]\n",
    "        \n",
    "    def setAttribut(self,key,values):\n",
    "        self.attributs[key]=values\n",
    "        \n",
    "    def getAttribut(self,key):\n",
    "        return self.attributs[key]\n",
    "    \n",
    "    def getName(self):\n",
    "        return self.name\n",
    "    \n",
    "    def egal(self,noeud):\n",
    "        if self.name == noeud.getName():\n",
    "            return True\n",
    "        return False\n",
    "    \n",
    "    def getCoutMin(self):\n",
    "        pass\n",
    "    \n",
    "    def getCout(self,noeud):\n",
    "        pass"
   ]
  },
  {
   "cell_type": "code",
   "execution_count": 177,
   "id": "f1e521c1",
   "metadata": {},
   "outputs": [],
   "source": [
    "#Implementer la Classe graphe\n",
    "\n",
    "class Graphe:\n",
    "    def __init__(self):\n",
    "        self.noeuds = []\n",
    "        self.arcs = {}\n",
    "       \n",
    "  \n",
    "    def creerNoeuds(self,fichiernoeuds):\n",
    "        tmp=[]\n",
    "        with open(fichiernoeuds,'r') as file:\n",
    "            readAll=csv.DictReader(file)\n",
    "            for i in readAll:\n",
    "                newNoeud=Noeud(i['id'])\n",
    "                newNoeud.setAttribut('latitude',i['latitude'])\n",
    "                newNoeud.setAttribut('longitude',i['longitude'])\n",
    "                newNoeud.setAttribut('population',i['population'])\n",
    "                self.noeuds.append(newNoeud)\n",
    "                self.arcs[newNoeud.getName()]=[]\n",
    "            for i in self.noeuds:\n",
    "                tmp.append(i.getName())\n",
    "        return tmp\n",
    "   \n",
    "    def creerArc(self,fichierarcs):\n",
    "        arcs=[]\n",
    "        dic={}\n",
    "        with open(fichierarcs, 'r') as file:\n",
    "            readAll=csv.DictReader(file)\n",
    "            for i in readAll:\n",
    "                dic['src']= i['src']\n",
    "                dic['dst']= i['dst']\n",
    "                dic['relationship'] = i['relationship']\n",
    "                dic['cost'] = i['cost']\n",
    "                tmp=dic.copy()\n",
    "                arcs+=[tmp]\n",
    "                for x in self.noeuds :\n",
    "                    if x.getName()== i['src']:\n",
    "                        tuple=(i['dst'],i['cost'])\n",
    "                        x.listeNomVoisin.append(tuple)\n",
    "#                         print(x.listeNomVoisin)\n",
    "#             for p in self.noeuds:\n",
    "#                 print(p.listeNomVoisin)\n",
    "            for i,j in self.arcs.items():\n",
    "                for n in arcs:\n",
    "                    if i==n['src']:\n",
    "                        j.append(n['dst'])\n",
    "            \n",
    "        return arcs\n",
    "    \n",
    "    def getNoeud(self,name):\n",
    "        for get in self.noeuds:\n",
    "            if get.getName()==name:\n",
    "                return get\n",
    "        return 'Introuvable'\n",
    "    \n",
    "    def getVoisins(self, noeud):\n",
    "        Voisins=noeud.listeNomVoisin.copy()\n",
    "        mesVoisins=[]\n",
    "        for get in Voisins:\n",
    "            mesVoisins+=[self.getNoeud(get[0])]\n",
    "#             print(mesVoisins[0].getName())\n",
    "        return mesVoisins\n",
    "    \n",
    "    def getCoordonnesVoisins(self,noeud):\n",
    "        noeudVoisins=self.getVoisins(noeud)\n",
    "        listCoordonnes=[]\n",
    "        for i in noeudVoisins:\n",
    "            tmp=(float(i.getAttribut('latitude')),float(i.getAttribut('longitude')))\n",
    "#             if (len(tmp)!=0):\n",
    "            listCoordonnes+=[tmp]\n",
    "            \n",
    "        return listCoordonnes\n",
    "    \n",
    "    def getListeCoordonnees(self,listeNoeud):\n",
    "        all=[]\n",
    "        for i in listeNoeud:\n",
    "            getNoeudCoord=(float(self.getNoeud(i).getAttribut('latitude')),float(self.getNoeud(i).getAttribut('longitude')))\n",
    "            all.append(getNoeudCoord)\n",
    "        return all\n",
    "    \n",
    "    def visualiserFolium(self):\n",
    "        table=[]\n",
    "        m = folium.Map(location=[52.3791890, 4.899431],tiles='Stamen Toner',explored=None)\n",
    "        tooltip = \"Clicker!\"\n",
    "        for i in self.noeuds:\n",
    "            folium.Marker([i.getAttribut('latitude'),i.getAttribut('longitude')], popup=i.getName(), tooltip=tooltip,color=\"#3186cc\").add_to(m)\n",
    "        return m\n",
    "    \n",
    "    \n",
    "#     def visualiserFolium_noeud(self, explored=(parcoursDFS(x,x.noeuds[1],x.noeuds[4]))):\n",
    "# #         point=self.getListeCoordonnees(explored)\n",
    "# #         folium.PolyLine(point,color=\"red\").add_to(m)\n",
    "# #         print(p)\n",
    "#         return explored\n",
    "#         "
   ]
  },
  {
   "cell_type": "code",
   "execution_count": 178,
   "id": "c3db10da",
   "metadata": {},
   "outputs": [
    {
     "data": {
      "text/plain": [
       "['Amsterdam',\n",
       " 'Utrecht',\n",
       " 'Den Haag',\n",
       " 'Immingham',\n",
       " 'Doncaster',\n",
       " 'Hoek van Holland',\n",
       " 'Felixstowe',\n",
       " 'Ipswich',\n",
       " 'Colchester',\n",
       " 'London',\n",
       " 'Rotterdam',\n",
       " 'Gouda']"
      ]
     },
     "execution_count": 178,
     "metadata": {},
     "output_type": "execute_result"
    }
   ],
   "source": [
    "#TEST\n",
    "x = Graphe()\n",
    "# x.read(\"transport-nodes.csv\")\n",
    "# print(x.read(\"transport-nodes.csv\"))\n",
    "x.creerNoeuds(\"transport-nodes.csv\")\n",
    "# x.creerArc(\"transport-relationships.csv\")\n",
    "# n=x.getNoeud('Doncaster')\n",
    "# o=x.getNoeud('Immingham')\n",
    "# x.getVoisins(n)\n",
    "# liste=['Amsterdam','Utrecht','Den Haag','Immingham','Doncaster','Hoek van Holland']\n",
    "# x.getCoordonnesVoisins(n)\n",
    "# x.getListeCoordonnees(liste)\n",
    "# x.visualiserFolium_noeuds()\n",
    "# parcoursDFS(x,n,o)\n",
    "# x.visualiserFolium()"
   ]
  },
  {
   "cell_type": "code",
   "execution_count": 179,
   "id": "df7992fa",
   "metadata": {},
   "outputs": [
    {
     "data": {
      "text/plain": [
       "[{'src': 'Amsterdam', 'dst': 'Utrecht', 'relationship': 'EROAD', 'cost': '46'},\n",
       " {'src': 'Amsterdam',\n",
       "  'dst': 'Den Haag',\n",
       "  'relationship': 'EROAD',\n",
       "  'cost': '59'},\n",
       " {'src': 'Den Haag',\n",
       "  'dst': 'Rotterdam',\n",
       "  'relationship': 'EROAD',\n",
       "  'cost': '26'},\n",
       " {'src': 'Amsterdam',\n",
       "  'dst': 'Immingham',\n",
       "  'relationship': 'EROAD',\n",
       "  'cost': '369'},\n",
       " {'src': 'Immingham',\n",
       "  'dst': 'Doncaster',\n",
       "  'relationship': 'EROAD',\n",
       "  'cost': '74'},\n",
       " {'src': 'Doncaster', 'dst': 'London', 'relationship': 'EROAD', 'cost': '277'},\n",
       " {'src': 'Hoek van Holland',\n",
       "  'dst': 'Den Haag',\n",
       "  'relationship': 'EROAD',\n",
       "  'cost': '27'},\n",
       " {'src': 'Felixstowe',\n",
       "  'dst': 'Hoek van Holland',\n",
       "  'relationship': 'EROAD',\n",
       "  'cost': '207'},\n",
       " {'src': 'Ipswich',\n",
       "  'dst': 'Felixstowe',\n",
       "  'relationship': 'EROAD',\n",
       "  'cost': '22'},\n",
       " {'src': 'Colchester',\n",
       "  'dst': 'Ipswich',\n",
       "  'relationship': 'EROAD',\n",
       "  'cost': '32'},\n",
       " {'src': 'London',\n",
       "  'dst': 'Colchester',\n",
       "  'relationship': 'EROAD',\n",
       "  'cost': '106'},\n",
       " {'src': 'Gouda', 'dst': 'Rotterdam', 'relationship': 'EROAD', 'cost': '25'},\n",
       " {'src': 'Gouda', 'dst': 'Utrecht', 'relationship': 'EROAD', 'cost': '35'},\n",
       " {'src': 'Den Haag', 'dst': 'Gouda', 'relationship': 'EROAD', 'cost': '32'},\n",
       " {'src': 'Hoek van Holland',\n",
       "  'dst': 'Rotterdam',\n",
       "  'relationship': 'EROAD',\n",
       "  'cost': '33'}]"
      ]
     },
     "execution_count": 179,
     "metadata": {},
     "output_type": "execute_result"
    }
   ],
   "source": [
    "x.creerArc(\"transport-relationships.csv\")"
   ]
  },
  {
   "cell_type": "code",
   "execution_count": 180,
   "id": "f5f2da3c",
   "metadata": {},
   "outputs": [
    {
     "data": {
      "text/html": [
       "<div style=\"width:100%;\"><div style=\"position:relative;width:100%;height:0;padding-bottom:60%;\"><span style=\"color:#565656\">Make this Notebook Trusted to load map: File -> Trust Notebook</span><iframe src=\"about:blank\" style=\"position:absolute;width:100%;height:100%;left:0;top:0;border:none !important;\" data-html=%3C%21DOCTYPE%20html%3E%0A%3Chead%3E%20%20%20%20%0A%20%20%20%20%3Cmeta%20http-equiv%3D%22content-type%22%20content%3D%22text/html%3B%20charset%3DUTF-8%22%20/%3E%0A%20%20%20%20%0A%20%20%20%20%20%20%20%20%3Cscript%3E%0A%20%20%20%20%20%20%20%20%20%20%20%20L_NO_TOUCH%20%3D%20false%3B%0A%20%20%20%20%20%20%20%20%20%20%20%20L_DISABLE_3D%20%3D%20false%3B%0A%20%20%20%20%20%20%20%20%3C/script%3E%0A%20%20%20%20%0A%20%20%20%20%3Cstyle%3Ehtml%2C%20body%20%7Bwidth%3A%20100%25%3Bheight%3A%20100%25%3Bmargin%3A%200%3Bpadding%3A%200%3B%7D%3C/style%3E%0A%20%20%20%20%3Cstyle%3E%23map%20%7Bposition%3Aabsolute%3Btop%3A0%3Bbottom%3A0%3Bright%3A0%3Bleft%3A0%3B%7D%3C/style%3E%0A%20%20%20%20%3Cscript%20src%3D%22https%3A//cdn.jsdelivr.net/npm/leaflet%401.6.0/dist/leaflet.js%22%3E%3C/script%3E%0A%20%20%20%20%3Cscript%20src%3D%22https%3A//code.jquery.com/jquery-1.12.4.min.js%22%3E%3C/script%3E%0A%20%20%20%20%3Cscript%20src%3D%22https%3A//maxcdn.bootstrapcdn.com/bootstrap/3.2.0/js/bootstrap.min.js%22%3E%3C/script%3E%0A%20%20%20%20%3Cscript%20src%3D%22https%3A//cdnjs.cloudflare.com/ajax/libs/Leaflet.awesome-markers/2.0.2/leaflet.awesome-markers.js%22%3E%3C/script%3E%0A%20%20%20%20%3Clink%20rel%3D%22stylesheet%22%20href%3D%22https%3A//cdn.jsdelivr.net/npm/leaflet%401.6.0/dist/leaflet.css%22/%3E%0A%20%20%20%20%3Clink%20rel%3D%22stylesheet%22%20href%3D%22https%3A//maxcdn.bootstrapcdn.com/bootstrap/3.2.0/css/bootstrap.min.css%22/%3E%0A%20%20%20%20%3Clink%20rel%3D%22stylesheet%22%20href%3D%22https%3A//maxcdn.bootstrapcdn.com/bootstrap/3.2.0/css/bootstrap-theme.min.css%22/%3E%0A%20%20%20%20%3Clink%20rel%3D%22stylesheet%22%20href%3D%22https%3A//maxcdn.bootstrapcdn.com/font-awesome/4.6.3/css/font-awesome.min.css%22/%3E%0A%20%20%20%20%3Clink%20rel%3D%22stylesheet%22%20href%3D%22https%3A//cdnjs.cloudflare.com/ajax/libs/Leaflet.awesome-markers/2.0.2/leaflet.awesome-markers.css%22/%3E%0A%20%20%20%20%3Clink%20rel%3D%22stylesheet%22%20href%3D%22https%3A//cdn.jsdelivr.net/gh/python-visualization/folium/folium/templates/leaflet.awesome.rotate.min.css%22/%3E%0A%20%20%20%20%0A%20%20%20%20%20%20%20%20%20%20%20%20%3Cmeta%20name%3D%22viewport%22%20content%3D%22width%3Ddevice-width%2C%0A%20%20%20%20%20%20%20%20%20%20%20%20%20%20%20%20initial-scale%3D1.0%2C%20maximum-scale%3D1.0%2C%20user-scalable%3Dno%22%20/%3E%0A%20%20%20%20%20%20%20%20%20%20%20%20%3Cstyle%3E%0A%20%20%20%20%20%20%20%20%20%20%20%20%20%20%20%20%23map_8dd2f6add6454da8a0a432612f903b0c%20%7B%0A%20%20%20%20%20%20%20%20%20%20%20%20%20%20%20%20%20%20%20%20position%3A%20relative%3B%0A%20%20%20%20%20%20%20%20%20%20%20%20%20%20%20%20%20%20%20%20width%3A%20100.0%25%3B%0A%20%20%20%20%20%20%20%20%20%20%20%20%20%20%20%20%20%20%20%20height%3A%20100.0%25%3B%0A%20%20%20%20%20%20%20%20%20%20%20%20%20%20%20%20%20%20%20%20left%3A%200.0%25%3B%0A%20%20%20%20%20%20%20%20%20%20%20%20%20%20%20%20%20%20%20%20top%3A%200.0%25%3B%0A%20%20%20%20%20%20%20%20%20%20%20%20%20%20%20%20%7D%0A%20%20%20%20%20%20%20%20%20%20%20%20%3C/style%3E%0A%20%20%20%20%20%20%20%20%0A%3C/head%3E%0A%3Cbody%3E%20%20%20%20%0A%20%20%20%20%0A%20%20%20%20%20%20%20%20%20%20%20%20%3Cdiv%20class%3D%22folium-map%22%20id%3D%22map_8dd2f6add6454da8a0a432612f903b0c%22%20%3E%3C/div%3E%0A%20%20%20%20%20%20%20%20%0A%3C/body%3E%0A%3Cscript%3E%20%20%20%20%0A%20%20%20%20%0A%20%20%20%20%20%20%20%20%20%20%20%20var%20map_8dd2f6add6454da8a0a432612f903b0c%20%3D%20L.map%28%0A%20%20%20%20%20%20%20%20%20%20%20%20%20%20%20%20%22map_8dd2f6add6454da8a0a432612f903b0c%22%2C%0A%20%20%20%20%20%20%20%20%20%20%20%20%20%20%20%20%7B%0A%20%20%20%20%20%20%20%20%20%20%20%20%20%20%20%20%20%20%20%20center%3A%20%5B52.379189%2C%204.899431%5D%2C%0A%20%20%20%20%20%20%20%20%20%20%20%20%20%20%20%20%20%20%20%20crs%3A%20L.CRS.EPSG3857%2C%0A%20%20%20%20%20%20%20%20%20%20%20%20%20%20%20%20%20%20%20%20zoom%3A%2010%2C%0A%20%20%20%20%20%20%20%20%20%20%20%20%20%20%20%20%20%20%20%20zoomControl%3A%20true%2C%0A%20%20%20%20%20%20%20%20%20%20%20%20%20%20%20%20%20%20%20%20preferCanvas%3A%20false%2C%0A%20%20%20%20%20%20%20%20%20%20%20%20%20%20%20%20%7D%0A%20%20%20%20%20%20%20%20%20%20%20%20%29%3B%0A%0A%20%20%20%20%20%20%20%20%20%20%20%20%0A%0A%20%20%20%20%20%20%20%20%0A%20%20%20%20%0A%20%20%20%20%20%20%20%20%20%20%20%20var%20tile_layer_9e1867bdc745403396c3acf2732ae341%20%3D%20L.tileLayer%28%0A%20%20%20%20%20%20%20%20%20%20%20%20%20%20%20%20%22https%3A//stamen-tiles-%7Bs%7D.a.ssl.fastly.net/toner/%7Bz%7D/%7Bx%7D/%7By%7D.png%22%2C%0A%20%20%20%20%20%20%20%20%20%20%20%20%20%20%20%20%7B%22attribution%22%3A%20%22Map%20tiles%20by%20%5Cu003ca%20href%3D%5C%22http%3A//stamen.com%5C%22%5Cu003eStamen%20Design%5Cu003c/a%5Cu003e%2C%20under%20%5Cu003ca%20href%3D%5C%22http%3A//creativecommons.org/licenses/by/3.0%5C%22%5Cu003eCC%20BY%203.0%5Cu003c/a%5Cu003e.%20Data%20by%20%5Cu0026copy%3B%20%5Cu003ca%20href%3D%5C%22http%3A//openstreetmap.org%5C%22%5Cu003eOpenStreetMap%5Cu003c/a%5Cu003e%2C%20under%20%5Cu003ca%20href%3D%5C%22http%3A//www.openstreetmap.org/copyright%5C%22%5Cu003eODbL%5Cu003c/a%5Cu003e.%22%2C%20%22detectRetina%22%3A%20false%2C%20%22maxNativeZoom%22%3A%2018%2C%20%22maxZoom%22%3A%2018%2C%20%22minZoom%22%3A%200%2C%20%22noWrap%22%3A%20false%2C%20%22opacity%22%3A%201%2C%20%22subdomains%22%3A%20%22abc%22%2C%20%22tms%22%3A%20false%7D%0A%20%20%20%20%20%20%20%20%20%20%20%20%29.addTo%28map_8dd2f6add6454da8a0a432612f903b0c%29%3B%0A%20%20%20%20%20%20%20%20%0A%20%20%20%20%0A%20%20%20%20%20%20%20%20%20%20%20%20var%20marker_c2cf99f5536f4a2c82177c158ec0c769%20%3D%20L.marker%28%0A%20%20%20%20%20%20%20%20%20%20%20%20%20%20%20%20%5B52.379189%2C%204.899431%5D%2C%0A%20%20%20%20%20%20%20%20%20%20%20%20%20%20%20%20%7B%22color%22%3A%20%22%233186cc%22%7D%0A%20%20%20%20%20%20%20%20%20%20%20%20%29.addTo%28map_8dd2f6add6454da8a0a432612f903b0c%29%3B%0A%20%20%20%20%20%20%20%20%0A%20%20%20%20%0A%20%20%20%20%20%20%20%20var%20popup_82eb29049a7546eca975c9d38d00d04f%20%3D%20L.popup%28%7B%22maxWidth%22%3A%20%22100%25%22%7D%29%3B%0A%0A%20%20%20%20%20%20%20%20%0A%20%20%20%20%20%20%20%20%20%20%20%20var%20html_562428e1cff54e57834564664fc719d9%20%3D%20%24%28%60%3Cdiv%20id%3D%22html_562428e1cff54e57834564664fc719d9%22%20style%3D%22width%3A%20100.0%25%3B%20height%3A%20100.0%25%3B%22%3EAmsterdam%3C/div%3E%60%29%5B0%5D%3B%0A%20%20%20%20%20%20%20%20%20%20%20%20popup_82eb29049a7546eca975c9d38d00d04f.setContent%28html_562428e1cff54e57834564664fc719d9%29%3B%0A%20%20%20%20%20%20%20%20%0A%0A%20%20%20%20%20%20%20%20marker_c2cf99f5536f4a2c82177c158ec0c769.bindPopup%28popup_82eb29049a7546eca975c9d38d00d04f%29%0A%20%20%20%20%20%20%20%20%3B%0A%0A%20%20%20%20%20%20%20%20%0A%20%20%20%20%0A%20%20%20%20%0A%20%20%20%20%20%20%20%20%20%20%20%20marker_c2cf99f5536f4a2c82177c158ec0c769.bindTooltip%28%0A%20%20%20%20%20%20%20%20%20%20%20%20%20%20%20%20%60%3Cdiv%3E%0A%20%20%20%20%20%20%20%20%20%20%20%20%20%20%20%20%20%20%20%20%20Clicker%21%0A%20%20%20%20%20%20%20%20%20%20%20%20%20%20%20%20%20%3C/div%3E%60%2C%0A%20%20%20%20%20%20%20%20%20%20%20%20%20%20%20%20%7B%22sticky%22%3A%20true%7D%0A%20%20%20%20%20%20%20%20%20%20%20%20%29%3B%0A%20%20%20%20%20%20%20%20%0A%20%20%20%20%0A%20%20%20%20%20%20%20%20%20%20%20%20var%20marker_09101907b38d475ca87bf142d9afa988%20%3D%20L.marker%28%0A%20%20%20%20%20%20%20%20%20%20%20%20%20%20%20%20%5B52.092876%2C%205.10448%5D%2C%0A%20%20%20%20%20%20%20%20%20%20%20%20%20%20%20%20%7B%22color%22%3A%20%22%233186cc%22%7D%0A%20%20%20%20%20%20%20%20%20%20%20%20%29.addTo%28map_8dd2f6add6454da8a0a432612f903b0c%29%3B%0A%20%20%20%20%20%20%20%20%0A%20%20%20%20%0A%20%20%20%20%20%20%20%20var%20popup_aa0c2e521b3c443cb3a01ec3fb781ab0%20%3D%20L.popup%28%7B%22maxWidth%22%3A%20%22100%25%22%7D%29%3B%0A%0A%20%20%20%20%20%20%20%20%0A%20%20%20%20%20%20%20%20%20%20%20%20var%20html_8bad245027fa45e690a44f9c4665edea%20%3D%20%24%28%60%3Cdiv%20id%3D%22html_8bad245027fa45e690a44f9c4665edea%22%20style%3D%22width%3A%20100.0%25%3B%20height%3A%20100.0%25%3B%22%3EUtrecht%3C/div%3E%60%29%5B0%5D%3B%0A%20%20%20%20%20%20%20%20%20%20%20%20popup_aa0c2e521b3c443cb3a01ec3fb781ab0.setContent%28html_8bad245027fa45e690a44f9c4665edea%29%3B%0A%20%20%20%20%20%20%20%20%0A%0A%20%20%20%20%20%20%20%20marker_09101907b38d475ca87bf142d9afa988.bindPopup%28popup_aa0c2e521b3c443cb3a01ec3fb781ab0%29%0A%20%20%20%20%20%20%20%20%3B%0A%0A%20%20%20%20%20%20%20%20%0A%20%20%20%20%0A%20%20%20%20%0A%20%20%20%20%20%20%20%20%20%20%20%20marker_09101907b38d475ca87bf142d9afa988.bindTooltip%28%0A%20%20%20%20%20%20%20%20%20%20%20%20%20%20%20%20%60%3Cdiv%3E%0A%20%20%20%20%20%20%20%20%20%20%20%20%20%20%20%20%20%20%20%20%20Clicker%21%0A%20%20%20%20%20%20%20%20%20%20%20%20%20%20%20%20%20%3C/div%3E%60%2C%0A%20%20%20%20%20%20%20%20%20%20%20%20%20%20%20%20%7B%22sticky%22%3A%20true%7D%0A%20%20%20%20%20%20%20%20%20%20%20%20%29%3B%0A%20%20%20%20%20%20%20%20%0A%20%20%20%20%0A%20%20%20%20%20%20%20%20%20%20%20%20var%20marker_c0d59fd8a851404cbfd95c07d2d973be%20%3D%20L.marker%28%0A%20%20%20%20%20%20%20%20%20%20%20%20%20%20%20%20%5B52.078663%2C%204.288788%5D%2C%0A%20%20%20%20%20%20%20%20%20%20%20%20%20%20%20%20%7B%22color%22%3A%20%22%233186cc%22%7D%0A%20%20%20%20%20%20%20%20%20%20%20%20%29.addTo%28map_8dd2f6add6454da8a0a432612f903b0c%29%3B%0A%20%20%20%20%20%20%20%20%0A%20%20%20%20%0A%20%20%20%20%20%20%20%20var%20popup_02ef36af21f0487fafeda7e4bb9ee567%20%3D%20L.popup%28%7B%22maxWidth%22%3A%20%22100%25%22%7D%29%3B%0A%0A%20%20%20%20%20%20%20%20%0A%20%20%20%20%20%20%20%20%20%20%20%20var%20html_f4612faeba6b427482d1c7d8a3339545%20%3D%20%24%28%60%3Cdiv%20id%3D%22html_f4612faeba6b427482d1c7d8a3339545%22%20style%3D%22width%3A%20100.0%25%3B%20height%3A%20100.0%25%3B%22%3EDen%20Haag%3C/div%3E%60%29%5B0%5D%3B%0A%20%20%20%20%20%20%20%20%20%20%20%20popup_02ef36af21f0487fafeda7e4bb9ee567.setContent%28html_f4612faeba6b427482d1c7d8a3339545%29%3B%0A%20%20%20%20%20%20%20%20%0A%0A%20%20%20%20%20%20%20%20marker_c0d59fd8a851404cbfd95c07d2d973be.bindPopup%28popup_02ef36af21f0487fafeda7e4bb9ee567%29%0A%20%20%20%20%20%20%20%20%3B%0A%0A%20%20%20%20%20%20%20%20%0A%20%20%20%20%0A%20%20%20%20%0A%20%20%20%20%20%20%20%20%20%20%20%20marker_c0d59fd8a851404cbfd95c07d2d973be.bindTooltip%28%0A%20%20%20%20%20%20%20%20%20%20%20%20%20%20%20%20%60%3Cdiv%3E%0A%20%20%20%20%20%20%20%20%20%20%20%20%20%20%20%20%20%20%20%20%20Clicker%21%0A%20%20%20%20%20%20%20%20%20%20%20%20%20%20%20%20%20%3C/div%3E%60%2C%0A%20%20%20%20%20%20%20%20%20%20%20%20%20%20%20%20%7B%22sticky%22%3A%20true%7D%0A%20%20%20%20%20%20%20%20%20%20%20%20%29%3B%0A%20%20%20%20%20%20%20%20%0A%20%20%20%20%0A%20%20%20%20%20%20%20%20%20%20%20%20var%20marker_1942e05b7fcc45c8bc74a5ab86f84a1a%20%3D%20L.marker%28%0A%20%20%20%20%20%20%20%20%20%20%20%20%20%20%20%20%5B53.61239%2C%20-0.22219%5D%2C%0A%20%20%20%20%20%20%20%20%20%20%20%20%20%20%20%20%7B%22color%22%3A%20%22%233186cc%22%7D%0A%20%20%20%20%20%20%20%20%20%20%20%20%29.addTo%28map_8dd2f6add6454da8a0a432612f903b0c%29%3B%0A%20%20%20%20%20%20%20%20%0A%20%20%20%20%0A%20%20%20%20%20%20%20%20var%20popup_5ba46992616040aeae50fc54bf2256e2%20%3D%20L.popup%28%7B%22maxWidth%22%3A%20%22100%25%22%7D%29%3B%0A%0A%20%20%20%20%20%20%20%20%0A%20%20%20%20%20%20%20%20%20%20%20%20var%20html_0dbed591518a4fc9a62ae0e66d107c5f%20%3D%20%24%28%60%3Cdiv%20id%3D%22html_0dbed591518a4fc9a62ae0e66d107c5f%22%20style%3D%22width%3A%20100.0%25%3B%20height%3A%20100.0%25%3B%22%3EImmingham%3C/div%3E%60%29%5B0%5D%3B%0A%20%20%20%20%20%20%20%20%20%20%20%20popup_5ba46992616040aeae50fc54bf2256e2.setContent%28html_0dbed591518a4fc9a62ae0e66d107c5f%29%3B%0A%20%20%20%20%20%20%20%20%0A%0A%20%20%20%20%20%20%20%20marker_1942e05b7fcc45c8bc74a5ab86f84a1a.bindPopup%28popup_5ba46992616040aeae50fc54bf2256e2%29%0A%20%20%20%20%20%20%20%20%3B%0A%0A%20%20%20%20%20%20%20%20%0A%20%20%20%20%0A%20%20%20%20%0A%20%20%20%20%20%20%20%20%20%20%20%20marker_1942e05b7fcc45c8bc74a5ab86f84a1a.bindTooltip%28%0A%20%20%20%20%20%20%20%20%20%20%20%20%20%20%20%20%60%3Cdiv%3E%0A%20%20%20%20%20%20%20%20%20%20%20%20%20%20%20%20%20%20%20%20%20Clicker%21%0A%20%20%20%20%20%20%20%20%20%20%20%20%20%20%20%20%20%3C/div%3E%60%2C%0A%20%20%20%20%20%20%20%20%20%20%20%20%20%20%20%20%7B%22sticky%22%3A%20true%7D%0A%20%20%20%20%20%20%20%20%20%20%20%20%29%3B%0A%20%20%20%20%20%20%20%20%0A%20%20%20%20%0A%20%20%20%20%20%20%20%20%20%20%20%20var%20marker_e2bee4daa6d244f19276e4e50e1647b4%20%3D%20L.marker%28%0A%20%20%20%20%20%20%20%20%20%20%20%20%20%20%20%20%5B53.52285%2C%20-1.13116%5D%2C%0A%20%20%20%20%20%20%20%20%20%20%20%20%20%20%20%20%7B%22color%22%3A%20%22%233186cc%22%7D%0A%20%20%20%20%20%20%20%20%20%20%20%20%29.addTo%28map_8dd2f6add6454da8a0a432612f903b0c%29%3B%0A%20%20%20%20%20%20%20%20%0A%20%20%20%20%0A%20%20%20%20%20%20%20%20var%20popup_4616b546b31b428eacb5d7c9691e9c25%20%3D%20L.popup%28%7B%22maxWidth%22%3A%20%22100%25%22%7D%29%3B%0A%0A%20%20%20%20%20%20%20%20%0A%20%20%20%20%20%20%20%20%20%20%20%20var%20html_a923834771a44d92996d8d3c6b68fda0%20%3D%20%24%28%60%3Cdiv%20id%3D%22html_a923834771a44d92996d8d3c6b68fda0%22%20style%3D%22width%3A%20100.0%25%3B%20height%3A%20100.0%25%3B%22%3EDoncaster%3C/div%3E%60%29%5B0%5D%3B%0A%20%20%20%20%20%20%20%20%20%20%20%20popup_4616b546b31b428eacb5d7c9691e9c25.setContent%28html_a923834771a44d92996d8d3c6b68fda0%29%3B%0A%20%20%20%20%20%20%20%20%0A%0A%20%20%20%20%20%20%20%20marker_e2bee4daa6d244f19276e4e50e1647b4.bindPopup%28popup_4616b546b31b428eacb5d7c9691e9c25%29%0A%20%20%20%20%20%20%20%20%3B%0A%0A%20%20%20%20%20%20%20%20%0A%20%20%20%20%0A%20%20%20%20%0A%20%20%20%20%20%20%20%20%20%20%20%20marker_e2bee4daa6d244f19276e4e50e1647b4.bindTooltip%28%0A%20%20%20%20%20%20%20%20%20%20%20%20%20%20%20%20%60%3Cdiv%3E%0A%20%20%20%20%20%20%20%20%20%20%20%20%20%20%20%20%20%20%20%20%20Clicker%21%0A%20%20%20%20%20%20%20%20%20%20%20%20%20%20%20%20%20%3C/div%3E%60%2C%0A%20%20%20%20%20%20%20%20%20%20%20%20%20%20%20%20%7B%22sticky%22%3A%20true%7D%0A%20%20%20%20%20%20%20%20%20%20%20%20%29%3B%0A%20%20%20%20%20%20%20%20%0A%20%20%20%20%0A%20%20%20%20%20%20%20%20%20%20%20%20var%20marker_2fde1fa91e5d4add8ccb3f6962944ea0%20%3D%20L.marker%28%0A%20%20%20%20%20%20%20%20%20%20%20%20%20%20%20%20%5B51.9775%2C%204.13333%5D%2C%0A%20%20%20%20%20%20%20%20%20%20%20%20%20%20%20%20%7B%22color%22%3A%20%22%233186cc%22%7D%0A%20%20%20%20%20%20%20%20%20%20%20%20%29.addTo%28map_8dd2f6add6454da8a0a432612f903b0c%29%3B%0A%20%20%20%20%20%20%20%20%0A%20%20%20%20%0A%20%20%20%20%20%20%20%20var%20popup_930799959c0a4bd1a00851d27b94d8be%20%3D%20L.popup%28%7B%22maxWidth%22%3A%20%22100%25%22%7D%29%3B%0A%0A%20%20%20%20%20%20%20%20%0A%20%20%20%20%20%20%20%20%20%20%20%20var%20html_a41d290ab5f840ffbbc752cf35169a75%20%3D%20%24%28%60%3Cdiv%20id%3D%22html_a41d290ab5f840ffbbc752cf35169a75%22%20style%3D%22width%3A%20100.0%25%3B%20height%3A%20100.0%25%3B%22%3EHoek%20van%20Holland%3C/div%3E%60%29%5B0%5D%3B%0A%20%20%20%20%20%20%20%20%20%20%20%20popup_930799959c0a4bd1a00851d27b94d8be.setContent%28html_a41d290ab5f840ffbbc752cf35169a75%29%3B%0A%20%20%20%20%20%20%20%20%0A%0A%20%20%20%20%20%20%20%20marker_2fde1fa91e5d4add8ccb3f6962944ea0.bindPopup%28popup_930799959c0a4bd1a00851d27b94d8be%29%0A%20%20%20%20%20%20%20%20%3B%0A%0A%20%20%20%20%20%20%20%20%0A%20%20%20%20%0A%20%20%20%20%0A%20%20%20%20%20%20%20%20%20%20%20%20marker_2fde1fa91e5d4add8ccb3f6962944ea0.bindTooltip%28%0A%20%20%20%20%20%20%20%20%20%20%20%20%20%20%20%20%60%3Cdiv%3E%0A%20%20%20%20%20%20%20%20%20%20%20%20%20%20%20%20%20%20%20%20%20Clicker%21%0A%20%20%20%20%20%20%20%20%20%20%20%20%20%20%20%20%20%3C/div%3E%60%2C%0A%20%20%20%20%20%20%20%20%20%20%20%20%20%20%20%20%7B%22sticky%22%3A%20true%7D%0A%20%20%20%20%20%20%20%20%20%20%20%20%29%3B%0A%20%20%20%20%20%20%20%20%0A%20%20%20%20%0A%20%20%20%20%20%20%20%20%20%20%20%20var%20marker_0cfda4be28d24c22aa864ba99c22d8d1%20%3D%20L.marker%28%0A%20%20%20%20%20%20%20%20%20%20%20%20%20%20%20%20%5B51.96375%2C%201.3511%5D%2C%0A%20%20%20%20%20%20%20%20%20%20%20%20%20%20%20%20%7B%22color%22%3A%20%22%233186cc%22%7D%0A%20%20%20%20%20%20%20%20%20%20%20%20%29.addTo%28map_8dd2f6add6454da8a0a432612f903b0c%29%3B%0A%20%20%20%20%20%20%20%20%0A%20%20%20%20%0A%20%20%20%20%20%20%20%20var%20popup_727606fb9d974cd3ac073784ef8dae74%20%3D%20L.popup%28%7B%22maxWidth%22%3A%20%22100%25%22%7D%29%3B%0A%0A%20%20%20%20%20%20%20%20%0A%20%20%20%20%20%20%20%20%20%20%20%20var%20html_e1c7ed84a0b14cec892678f41ebb68b3%20%3D%20%24%28%60%3Cdiv%20id%3D%22html_e1c7ed84a0b14cec892678f41ebb68b3%22%20style%3D%22width%3A%20100.0%25%3B%20height%3A%20100.0%25%3B%22%3EFelixstowe%3C/div%3E%60%29%5B0%5D%3B%0A%20%20%20%20%20%20%20%20%20%20%20%20popup_727606fb9d974cd3ac073784ef8dae74.setContent%28html_e1c7ed84a0b14cec892678f41ebb68b3%29%3B%0A%20%20%20%20%20%20%20%20%0A%0A%20%20%20%20%20%20%20%20marker_0cfda4be28d24c22aa864ba99c22d8d1.bindPopup%28popup_727606fb9d974cd3ac073784ef8dae74%29%0A%20%20%20%20%20%20%20%20%3B%0A%0A%20%20%20%20%20%20%20%20%0A%20%20%20%20%0A%20%20%20%20%0A%20%20%20%20%20%20%20%20%20%20%20%20marker_0cfda4be28d24c22aa864ba99c22d8d1.bindTooltip%28%0A%20%20%20%20%20%20%20%20%20%20%20%20%20%20%20%20%60%3Cdiv%3E%0A%20%20%20%20%20%20%20%20%20%20%20%20%20%20%20%20%20%20%20%20%20Clicker%21%0A%20%20%20%20%20%20%20%20%20%20%20%20%20%20%20%20%20%3C/div%3E%60%2C%0A%20%20%20%20%20%20%20%20%20%20%20%20%20%20%20%20%7B%22sticky%22%3A%20true%7D%0A%20%20%20%20%20%20%20%20%20%20%20%20%29%3B%0A%20%20%20%20%20%20%20%20%0A%20%20%20%20%0A%20%20%20%20%20%20%20%20%20%20%20%20var%20marker_77774080e6d74e1892465ea2ff0f7529%20%3D%20L.marker%28%0A%20%20%20%20%20%20%20%20%20%20%20%20%20%20%20%20%5B52.05917%2C%201.15545%5D%2C%0A%20%20%20%20%20%20%20%20%20%20%20%20%20%20%20%20%7B%22color%22%3A%20%22%233186cc%22%7D%0A%20%20%20%20%20%20%20%20%20%20%20%20%29.addTo%28map_8dd2f6add6454da8a0a432612f903b0c%29%3B%0A%20%20%20%20%20%20%20%20%0A%20%20%20%20%0A%20%20%20%20%20%20%20%20var%20popup_937d78359ced4f5e994d2816c15e6fde%20%3D%20L.popup%28%7B%22maxWidth%22%3A%20%22100%25%22%7D%29%3B%0A%0A%20%20%20%20%20%20%20%20%0A%20%20%20%20%20%20%20%20%20%20%20%20var%20html_d7abe5621c0c45f3bd14c7f17ca29dfe%20%3D%20%24%28%60%3Cdiv%20id%3D%22html_d7abe5621c0c45f3bd14c7f17ca29dfe%22%20style%3D%22width%3A%20100.0%25%3B%20height%3A%20100.0%25%3B%22%3EIpswich%3C/div%3E%60%29%5B0%5D%3B%0A%20%20%20%20%20%20%20%20%20%20%20%20popup_937d78359ced4f5e994d2816c15e6fde.setContent%28html_d7abe5621c0c45f3bd14c7f17ca29dfe%29%3B%0A%20%20%20%20%20%20%20%20%0A%0A%20%20%20%20%20%20%20%20marker_77774080e6d74e1892465ea2ff0f7529.bindPopup%28popup_937d78359ced4f5e994d2816c15e6fde%29%0A%20%20%20%20%20%20%20%20%3B%0A%0A%20%20%20%20%20%20%20%20%0A%20%20%20%20%0A%20%20%20%20%0A%20%20%20%20%20%20%20%20%20%20%20%20marker_77774080e6d74e1892465ea2ff0f7529.bindTooltip%28%0A%20%20%20%20%20%20%20%20%20%20%20%20%20%20%20%20%60%3Cdiv%3E%0A%20%20%20%20%20%20%20%20%20%20%20%20%20%20%20%20%20%20%20%20%20Clicker%21%0A%20%20%20%20%20%20%20%20%20%20%20%20%20%20%20%20%20%3C/div%3E%60%2C%0A%20%20%20%20%20%20%20%20%20%20%20%20%20%20%20%20%7B%22sticky%22%3A%20true%7D%0A%20%20%20%20%20%20%20%20%20%20%20%20%29%3B%0A%20%20%20%20%20%20%20%20%0A%20%20%20%20%0A%20%20%20%20%20%20%20%20%20%20%20%20var%20marker_d21d5d21b457443c9a3068de61f23d61%20%3D%20L.marker%28%0A%20%20%20%20%20%20%20%20%20%20%20%20%20%20%20%20%5B51.88921%2C%200.90421%5D%2C%0A%20%20%20%20%20%20%20%20%20%20%20%20%20%20%20%20%7B%22color%22%3A%20%22%233186cc%22%7D%0A%20%20%20%20%20%20%20%20%20%20%20%20%29.addTo%28map_8dd2f6add6454da8a0a432612f903b0c%29%3B%0A%20%20%20%20%20%20%20%20%0A%20%20%20%20%0A%20%20%20%20%20%20%20%20var%20popup_6a36530976dc47a8bb56809edc0ba10a%20%3D%20L.popup%28%7B%22maxWidth%22%3A%20%22100%25%22%7D%29%3B%0A%0A%20%20%20%20%20%20%20%20%0A%20%20%20%20%20%20%20%20%20%20%20%20var%20html_b4d61cd520c8498a81b1306887386b15%20%3D%20%24%28%60%3Cdiv%20id%3D%22html_b4d61cd520c8498a81b1306887386b15%22%20style%3D%22width%3A%20100.0%25%3B%20height%3A%20100.0%25%3B%22%3EColchester%3C/div%3E%60%29%5B0%5D%3B%0A%20%20%20%20%20%20%20%20%20%20%20%20popup_6a36530976dc47a8bb56809edc0ba10a.setContent%28html_b4d61cd520c8498a81b1306887386b15%29%3B%0A%20%20%20%20%20%20%20%20%0A%0A%20%20%20%20%20%20%20%20marker_d21d5d21b457443c9a3068de61f23d61.bindPopup%28popup_6a36530976dc47a8bb56809edc0ba10a%29%0A%20%20%20%20%20%20%20%20%3B%0A%0A%20%20%20%20%20%20%20%20%0A%20%20%20%20%0A%20%20%20%20%0A%20%20%20%20%20%20%20%20%20%20%20%20marker_d21d5d21b457443c9a3068de61f23d61.bindTooltip%28%0A%20%20%20%20%20%20%20%20%20%20%20%20%20%20%20%20%60%3Cdiv%3E%0A%20%20%20%20%20%20%20%20%20%20%20%20%20%20%20%20%20%20%20%20%20Clicker%21%0A%20%20%20%20%20%20%20%20%20%20%20%20%20%20%20%20%20%3C/div%3E%60%2C%0A%20%20%20%20%20%20%20%20%20%20%20%20%20%20%20%20%7B%22sticky%22%3A%20true%7D%0A%20%20%20%20%20%20%20%20%20%20%20%20%29%3B%0A%20%20%20%20%20%20%20%20%0A%20%20%20%20%0A%20%20%20%20%20%20%20%20%20%20%20%20var%20marker_23a9e683bbcc42aea3ce0a7629cfa174%20%3D%20L.marker%28%0A%20%20%20%20%20%20%20%20%20%20%20%20%20%20%20%20%5B51.509865%2C%20-0.118092%5D%2C%0A%20%20%20%20%20%20%20%20%20%20%20%20%20%20%20%20%7B%22color%22%3A%20%22%233186cc%22%7D%0A%20%20%20%20%20%20%20%20%20%20%20%20%29.addTo%28map_8dd2f6add6454da8a0a432612f903b0c%29%3B%0A%20%20%20%20%20%20%20%20%0A%20%20%20%20%0A%20%20%20%20%20%20%20%20var%20popup_ceb1dacc342545e09b19a5e3c074d75b%20%3D%20L.popup%28%7B%22maxWidth%22%3A%20%22100%25%22%7D%29%3B%0A%0A%20%20%20%20%20%20%20%20%0A%20%20%20%20%20%20%20%20%20%20%20%20var%20html_8a8e9543b7b4406fa1ddcd78d39c5373%20%3D%20%24%28%60%3Cdiv%20id%3D%22html_8a8e9543b7b4406fa1ddcd78d39c5373%22%20style%3D%22width%3A%20100.0%25%3B%20height%3A%20100.0%25%3B%22%3ELondon%3C/div%3E%60%29%5B0%5D%3B%0A%20%20%20%20%20%20%20%20%20%20%20%20popup_ceb1dacc342545e09b19a5e3c074d75b.setContent%28html_8a8e9543b7b4406fa1ddcd78d39c5373%29%3B%0A%20%20%20%20%20%20%20%20%0A%0A%20%20%20%20%20%20%20%20marker_23a9e683bbcc42aea3ce0a7629cfa174.bindPopup%28popup_ceb1dacc342545e09b19a5e3c074d75b%29%0A%20%20%20%20%20%20%20%20%3B%0A%0A%20%20%20%20%20%20%20%20%0A%20%20%20%20%0A%20%20%20%20%0A%20%20%20%20%20%20%20%20%20%20%20%20marker_23a9e683bbcc42aea3ce0a7629cfa174.bindTooltip%28%0A%20%20%20%20%20%20%20%20%20%20%20%20%20%20%20%20%60%3Cdiv%3E%0A%20%20%20%20%20%20%20%20%20%20%20%20%20%20%20%20%20%20%20%20%20Clicker%21%0A%20%20%20%20%20%20%20%20%20%20%20%20%20%20%20%20%20%3C/div%3E%60%2C%0A%20%20%20%20%20%20%20%20%20%20%20%20%20%20%20%20%7B%22sticky%22%3A%20true%7D%0A%20%20%20%20%20%20%20%20%20%20%20%20%29%3B%0A%20%20%20%20%20%20%20%20%0A%20%20%20%20%0A%20%20%20%20%20%20%20%20%20%20%20%20var%20marker_8519b352c5ce455188ad3161f6da1b65%20%3D%20L.marker%28%0A%20%20%20%20%20%20%20%20%20%20%20%20%20%20%20%20%5B51.9225%2C%204.47917%5D%2C%0A%20%20%20%20%20%20%20%20%20%20%20%20%20%20%20%20%7B%22color%22%3A%20%22%233186cc%22%7D%0A%20%20%20%20%20%20%20%20%20%20%20%20%29.addTo%28map_8dd2f6add6454da8a0a432612f903b0c%29%3B%0A%20%20%20%20%20%20%20%20%0A%20%20%20%20%0A%20%20%20%20%20%20%20%20var%20popup_6cd66752827a45b393ac36845aec35d9%20%3D%20L.popup%28%7B%22maxWidth%22%3A%20%22100%25%22%7D%29%3B%0A%0A%20%20%20%20%20%20%20%20%0A%20%20%20%20%20%20%20%20%20%20%20%20var%20html_387fa68c274f454d917f2773bb57b990%20%3D%20%24%28%60%3Cdiv%20id%3D%22html_387fa68c274f454d917f2773bb57b990%22%20style%3D%22width%3A%20100.0%25%3B%20height%3A%20100.0%25%3B%22%3ERotterdam%3C/div%3E%60%29%5B0%5D%3B%0A%20%20%20%20%20%20%20%20%20%20%20%20popup_6cd66752827a45b393ac36845aec35d9.setContent%28html_387fa68c274f454d917f2773bb57b990%29%3B%0A%20%20%20%20%20%20%20%20%0A%0A%20%20%20%20%20%20%20%20marker_8519b352c5ce455188ad3161f6da1b65.bindPopup%28popup_6cd66752827a45b393ac36845aec35d9%29%0A%20%20%20%20%20%20%20%20%3B%0A%0A%20%20%20%20%20%20%20%20%0A%20%20%20%20%0A%20%20%20%20%0A%20%20%20%20%20%20%20%20%20%20%20%20marker_8519b352c5ce455188ad3161f6da1b65.bindTooltip%28%0A%20%20%20%20%20%20%20%20%20%20%20%20%20%20%20%20%60%3Cdiv%3E%0A%20%20%20%20%20%20%20%20%20%20%20%20%20%20%20%20%20%20%20%20%20Clicker%21%0A%20%20%20%20%20%20%20%20%20%20%20%20%20%20%20%20%20%3C/div%3E%60%2C%0A%20%20%20%20%20%20%20%20%20%20%20%20%20%20%20%20%7B%22sticky%22%3A%20true%7D%0A%20%20%20%20%20%20%20%20%20%20%20%20%29%3B%0A%20%20%20%20%20%20%20%20%0A%20%20%20%20%0A%20%20%20%20%20%20%20%20%20%20%20%20var%20marker_65adf37aba8146989142e60d3db6ba52%20%3D%20L.marker%28%0A%20%20%20%20%20%20%20%20%20%20%20%20%20%20%20%20%5B52.01667%2C%204.70833%5D%2C%0A%20%20%20%20%20%20%20%20%20%20%20%20%20%20%20%20%7B%22color%22%3A%20%22%233186cc%22%7D%0A%20%20%20%20%20%20%20%20%20%20%20%20%29.addTo%28map_8dd2f6add6454da8a0a432612f903b0c%29%3B%0A%20%20%20%20%20%20%20%20%0A%20%20%20%20%0A%20%20%20%20%20%20%20%20var%20popup_3d5aa8cfa9d54568bdcd71446b257fcd%20%3D%20L.popup%28%7B%22maxWidth%22%3A%20%22100%25%22%7D%29%3B%0A%0A%20%20%20%20%20%20%20%20%0A%20%20%20%20%20%20%20%20%20%20%20%20var%20html_485634757ac9489dbc1575851dd103ca%20%3D%20%24%28%60%3Cdiv%20id%3D%22html_485634757ac9489dbc1575851dd103ca%22%20style%3D%22width%3A%20100.0%25%3B%20height%3A%20100.0%25%3B%22%3EGouda%3C/div%3E%60%29%5B0%5D%3B%0A%20%20%20%20%20%20%20%20%20%20%20%20popup_3d5aa8cfa9d54568bdcd71446b257fcd.setContent%28html_485634757ac9489dbc1575851dd103ca%29%3B%0A%20%20%20%20%20%20%20%20%0A%0A%20%20%20%20%20%20%20%20marker_65adf37aba8146989142e60d3db6ba52.bindPopup%28popup_3d5aa8cfa9d54568bdcd71446b257fcd%29%0A%20%20%20%20%20%20%20%20%3B%0A%0A%20%20%20%20%20%20%20%20%0A%20%20%20%20%0A%20%20%20%20%0A%20%20%20%20%20%20%20%20%20%20%20%20marker_65adf37aba8146989142e60d3db6ba52.bindTooltip%28%0A%20%20%20%20%20%20%20%20%20%20%20%20%20%20%20%20%60%3Cdiv%3E%0A%20%20%20%20%20%20%20%20%20%20%20%20%20%20%20%20%20%20%20%20%20Clicker%21%0A%20%20%20%20%20%20%20%20%20%20%20%20%20%20%20%20%20%3C/div%3E%60%2C%0A%20%20%20%20%20%20%20%20%20%20%20%20%20%20%20%20%7B%22sticky%22%3A%20true%7D%0A%20%20%20%20%20%20%20%20%20%20%20%20%29%3B%0A%20%20%20%20%20%20%20%20%0A%3C/script%3E onload=\"this.contentDocument.open();this.contentDocument.write(    decodeURIComponent(this.getAttribute('data-html')));this.contentDocument.close();\" allowfullscreen webkitallowfullscreen mozallowfullscreen></iframe></div></div>"
      ],
      "text/plain": [
       "<folium.folium.Map at 0x23389f87880>"
      ]
     },
     "execution_count": 180,
     "metadata": {},
     "output_type": "execute_result"
    }
   ],
   "source": [
    "x.visualiserFolium()"
   ]
  },
  {
   "cell_type": "code",
   "execution_count": 181,
   "id": "11c3a2fd",
   "metadata": {},
   "outputs": [
    {
     "name": "stdout",
     "output_type": "stream",
     "text": [
      "['Mohamed', 'Mohaed', 'Mohamd', 'Mohame']\n",
      "['Mohamed', 'Mohaed', 'Mohamd']\n"
     ]
    }
   ],
   "source": [
    "#Partie 3\n",
    "#Implementation de la pile\n",
    "\n",
    "class Pile():\n",
    "    def __init__(self):\n",
    "        self.elements=[]\n",
    "        \n",
    "    def push(self,noeud):\n",
    "        self.elements.append(noeud)\n",
    "        return noeud\n",
    "    def contains_noeud(self, name):\n",
    "        if name in self.elements:\n",
    "            return True \n",
    "        else: return False\n",
    "        \n",
    "    def empty(self):\n",
    "        return len(self.elements) == 0\n",
    "    \n",
    "    def remove(self):\n",
    "        return self.elements.pop()\n",
    "        \n",
    "    \n",
    "f=Pile()\n",
    "# print(f.empty())\n",
    "f.push(\"Mohamed\")\n",
    "f.push(\"Mohaed\")\n",
    "f.push(\"Mohamd\")\n",
    "f.push(\"Mohame\")\n",
    "# print(f.empty())\n",
    "print(f.elements)\n",
    "f.remove()\n",
    "print(f.elements)\n",
    "# # print(f.contains_noeud(\"Mohamd\")\n",
    "# f.contains_noeud(\"Mohamd\")\n"
   ]
  },
  {
   "cell_type": "code",
   "execution_count": null,
   "id": "7f9f788d",
   "metadata": {},
   "outputs": [],
   "source": []
  },
  {
   "cell_type": "code",
   "execution_count": 182,
   "id": "c1555cc0",
   "metadata": {},
   "outputs": [
    {
     "name": "stdout",
     "output_type": "stream",
     "text": [
      "['Mohamed', 'Mohaed', 'Mohamd', 'Mohame']\n",
      "['Mohaed', 'Mohamd', 'Mohame']\n"
     ]
    }
   ],
   "source": [
    "#Partie 3\n",
    "#Implementation de la file\n",
    "class File(Pile):\n",
    "    def remove(self):\n",
    "        return self.elements.pop(0)\n",
    "    \n",
    "f=File()\n",
    "# print(f.empty())\n",
    "f.push(\"Mohamed\")\n",
    "f.push(\"Mohaed\")\n",
    "f.push(\"Mohamd\")\n",
    "f.push(\"Mohame\")\n",
    "# print(f.empty())\n",
    "print(f.elements)\n",
    "f.remove()\n",
    "print(f.elements)\n",
    "# # print(f.contains_noeud(\"Mohamd\")\n",
    "# f.contains_noeud(\"Mohamd\")"
   ]
  },
  {
   "cell_type": "code",
   "execution_count": 183,
   "id": "2e4c3902",
   "metadata": {},
   "outputs": [],
   "source": [
    "#Partie 4 Implementer les algorithmes de parcours de graphe: BFS ET DFS\n",
    "\n",
    "# BFS :\n",
    "\n",
    "\n",
    "visiter = [] # Liste des noeuds explores.\n",
    "frontiere = []     #file\n",
    "\n",
    "def bfs(visiter, graphe, noeud):\n",
    "    visiter.append(noeud)\n",
    "    frontiere.append(noeud)\n",
    "    while frontiere:\n",
    "        s = frontiere.pop(0) \n",
    "        print (s) \n",
    "        for i in graphe[s]:\n",
    "            if i not in visiter:\n",
    "                visiter.append(i)\n",
    "                frontiere.append(i)\n",
    "\n",
    "# TEST\n",
    "\n"
   ]
  },
  {
   "cell_type": "code",
   "execution_count": 184,
   "id": "383da318",
   "metadata": {},
   "outputs": [],
   "source": [
    "# dfs\n",
    "\n",
    "def dfs(graphe,noeud,visiter=[]):\n",
    "    visiter +=[noeud]\n",
    "    for i in graphe[noeud]:\n",
    "        if i not in visiter:\n",
    "            visiter=dfs(graphe,i,visiter)        \n",
    "    return visiter\n",
    "# test"
   ]
  },
  {
   "cell_type": "code",
   "execution_count": 187,
   "id": "a32d985a",
   "metadata": {},
   "outputs": [],
   "source": [
    "# #PARCOURS DFS\n",
    "\n",
    "def parcoursDFS(myGraphe, noeudsrc,noeuddst):\n",
    "    srcName=noeudsrc.getName()\n",
    "    dstName=noeuddst.getName()\n",
    "    cpt=0\n",
    "    for key in myGraphe.noeuds:\n",
    "        cpt+=cpt\n",
    "        if key.egal(noeudsrc):\n",
    "            cpt=0\n",
    "#             print(\"Source existe\")\n",
    "        if key.egal(noeuddst):\n",
    "            cpt=0\n",
    "#             print(\" Destination existe\")\n",
    "#     print(cpt)\n",
    "#             return \"Name don't exis!!t\"\n",
    "    if cpt ==0:\n",
    "        visiter=[]\n",
    "        frontiere=[srcName]\n",
    "        while (len(frontiere) != 0):\n",
    "            s=frontiere.pop()\n",
    "\n",
    "            if s not in visiter:\n",
    "                visiter.append(s)\n",
    "                if s==dstName:\n",
    "                    break\n",
    "\n",
    "\n",
    "            if s not in myGraphe.arcs:\n",
    "                print(\"nosee\")\n",
    "                continue \n",
    "\n",
    "            for i in myGraphe.arcs[s]:\n",
    "                  frontiere.append(i)\n",
    "        print(\"Liste des noeuds explores\")\n",
    "\n",
    "        return visiter  #\"->\".join(visiter) #\n",
    "   \n",
    "\n",
    "\n"
   ]
  },
  {
   "cell_type": "code",
   "execution_count": 193,
   "id": "e57dfaae",
   "metadata": {},
   "outputs": [
    {
     "name": "stdout",
     "output_type": "stream",
     "text": [
      "Liste des noeuds explores\n"
     ]
    },
    {
     "data": {
      "text/plain": [
       "['Den Haag', 'Gouda', 'Utrecht', 'Rotterdam']"
      ]
     },
     "execution_count": 193,
     "metadata": {},
     "output_type": "execute_result"
    }
   ],
   "source": [
    "# n=x.getNoeud('Doncaster')\n",
    "# o=x.getNoeud('Immingham')\n",
    "parcoursDFS(x,x.noeuds[2],x.noeuds[6])"
   ]
  },
  {
   "cell_type": "code",
   "execution_count": null,
   "id": "eabedd24",
   "metadata": {
    "scrolled": true
   },
   "outputs": [],
   "source": []
  },
  {
   "cell_type": "code",
   "execution_count": null,
   "id": "c218579c",
   "metadata": {},
   "outputs": [],
   "source": []
  },
  {
   "cell_type": "code",
   "execution_count": null,
   "id": "52bba8f1",
   "metadata": {},
   "outputs": [],
   "source": []
  }
 ],
 "metadata": {
  "kernelspec": {
   "display_name": "Python 3",
   "language": "python",
   "name": "python3"
  },
  "language_info": {
   "codemirror_mode": {
    "name": "ipython",
    "version": 3
   },
   "file_extension": ".py",
   "mimetype": "text/x-python",
   "name": "python",
   "nbconvert_exporter": "python",
   "pygments_lexer": "ipython3",
   "version": "3.8.8"
  }
 },
 "nbformat": 4,
 "nbformat_minor": 5
}
